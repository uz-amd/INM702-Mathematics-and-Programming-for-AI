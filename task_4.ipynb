{
  "cells": [
    {
      "cell_type": "markdown",
      "source": [
        "Download and import dataset using Torch Vision"
      ],
      "metadata": {
        "id": "FDbfD2SBfKpB"
      }
    },
    {
      "cell_type": "code",
      "execution_count": 1,
      "metadata": {
        "colab": {
          "base_uri": "https://localhost:8080/",
          "height": 104,
          "referenced_widgets": [
            "9236ae7d951b460c9dec08ab24cdf658",
            "866a7d12258b4d539ff304ea1bb8d810",
            "1cbcacd940914e638de21a205b48b0b4",
            "9bec6f940edc45c3b658d76dce953b0c",
            "b0eacd5452b1414eba20667aab33a725",
            "bcec964a481b40af8fe73e7c28dc6a41",
            "4ddf741289d6416ca9e1292391ca8a10",
            "ca8636ba29044c559c6d568160fff97c",
            "b100b112a99f4d51b8f2e9418235135f",
            "760207c549fc472eb487ac5e839c4a47",
            "09f38198d337464491f932a4eff2140f"
          ]
        },
        "id": "LZath9gt_haj",
        "outputId": "44fe8db7-f5a6-49e2-db5b-0ab957564000"
      },
      "outputs": [
        {
          "output_type": "stream",
          "name": "stdout",
          "text": [
            "Downloading https://www.cs.toronto.edu/~kriz/cifar-10-python.tar.gz to ./CIFAR10/cifar-10-python.tar.gz\n"
          ]
        },
        {
          "output_type": "display_data",
          "data": {
            "application/vnd.jupyter.widget-view+json": {
              "model_id": "9236ae7d951b460c9dec08ab24cdf658",
              "version_minor": 0,
              "version_major": 2
            },
            "text/plain": [
              "  0%|          | 0/170498071 [00:00<?, ?it/s]"
            ]
          },
          "metadata": {}
        },
        {
          "output_type": "stream",
          "name": "stdout",
          "text": [
            "Extracting ./CIFAR10/cifar-10-python.tar.gz to ./CIFAR10\n",
            "Files already downloaded and verified\n"
          ]
        }
      ],
      "source": [
        "import torch\n",
        "import torchvision\n",
        "import torchvision.transforms as transforms\n",
        "from torch.utils.data import DataLoader\n",
        "\n",
        "mean = (0.5, 0.5, 0.5)\n",
        "std = (0.5, 0.5, 0.5)\n",
        "\n",
        "# bool to set network use\n",
        "use_conv_net = False\n",
        "\n",
        "# Normalize 32x32 3 channels 0.5 mean and std\n",
        "transform_method = transforms.Compose([\n",
        "    transforms.ToTensor(),\n",
        "    transforms.Normalize(mean=mean, std=std)\n",
        "])\n",
        "\n",
        "if use_conv_net:\n",
        "    batch_size = 32\n",
        "else:\n",
        "    batch_size = 32\n",
        "\n",
        "dataset_classes = (\n",
        "    'airplane',\n",
        "    'automobile',\n",
        "    'bird',\n",
        "    'cat',\n",
        "    'deer',\n",
        "    'dog',\n",
        "    'frog',\n",
        "    'horse',\n",
        "    'ship',\n",
        "    'truck'\n",
        ")\n",
        "\n",
        "# Download and transform datasets\n",
        "training_data = torchvision.datasets.CIFAR10(\n",
        "    root='./CIFAR10',\n",
        "    train=True, download=True,\n",
        "    transform=transform_method\n",
        ")\n",
        "\n",
        "testing_data = torchvision.datasets.CIFAR10(\n",
        "    root='./CIFAR10',\n",
        "    train=False,\n",
        "    download=True,\n",
        "    transform=transform_method\n",
        ")\n",
        "\n",
        "# Create loaders for training and testing datasets\n",
        "training_data_loader = DataLoader(\n",
        "    training_data,\n",
        "    batch_size=batch_size,\n",
        "    # Shuffle training dataset\n",
        "    shuffle=True\n",
        ")\n",
        "\n",
        "testing_data_loader = DataLoader(\n",
        "    testing_data,\n",
        "    batch_size=batch_size,\n",
        "    shuffle=False\n",
        ")"
      ]
    },
    {
      "cell_type": "markdown",
      "source": [
        "Define Neural Network and CNN with layers"
      ],
      "metadata": {
        "id": "jrDN7rjFfRfI"
      }
    },
    {
      "cell_type": "code",
      "execution_count": 2,
      "metadata": {
        "id": "8fc6YBq0_lpA"
      },
      "outputs": [],
      "source": [
        "import torch.nn as nn\n",
        "import torch.nn.functional as F\n",
        "\n",
        "\n",
        "# Increase initial out channels if gpu is available\n",
        "if torch.cuda.is_available():\n",
        "    out_channels = 24\n",
        "else:\n",
        "    out_channels = 6\n",
        "\n",
        "# Implement dropout in both models\n",
        "dropout_rate = 0.2\n",
        "in_hidden_layer = 128\n",
        "out_hidden_layer = 64\n",
        "\n",
        "# Neural network\n",
        "class NeuralNet(nn.Module):\n",
        "    def __init__(self, **kwargs):\n",
        "        super(NeuralNet, self).__init__(**kwargs)\n",
        "        # First linear input features defined as 3 channels 32x32 img size\n",
        "        # 512 feature hidden layer\n",
        "        self.linear1 = nn.Linear(in_features=3 * 32 * 32, out_features=128)\n",
        "        self.linear2 = nn.Linear(in_features=in_hidden_layer, out_features=out_hidden_layer)\n",
        "        self.linear3 = nn.Linear(in_features=out_hidden_layer, out_features=10)\n",
        "        self.dropout = nn.Dropout(dropout_rate)\n",
        "\n",
        "    def forward(self, input):\n",
        "        output = torch.flatten(input, 1)\n",
        "        output = self.linear1(output)\n",
        "        output = F.relu(output)\n",
        "        output = self.linear2(output)\n",
        "        output = F.relu(output)\n",
        "        output = self.dropout(output)\n",
        "        output = self.linear3(output)\n",
        "        return output\n",
        "\n",
        "# CNN\n",
        "class ConvNet(nn.Module):\n",
        "    def __init__(self, **kwargs):\n",
        "        super(ConvNet, self).__init__(**kwargs)\n",
        "        self.conv1 = nn.Conv2d(\n",
        "            in_channels=3, out_channels=out_channels, kernel_size=5)\n",
        "        self.pool = nn.MaxPool2d(kernel_size=2, stride=2)\n",
        "        self.conv2 = nn.Conv2d(in_channels=out_channels,\n",
        "                               out_channels=16, kernel_size=5)\n",
        "        self.fc1 = nn.Linear(in_features=16 * 5 * 5, out_features=120)\n",
        "        self.fc2 = nn.Linear(in_features=120, out_features=84)\n",
        "        self.fc3 = nn.Linear(in_features=84, out_features=10)\n",
        "        self.dropout = nn.Dropout(dropout_rate)\n",
        "\n",
        "    def forward(self, input):\n",
        "        output = self.pool(F.relu(self.conv1(input)))\n",
        "        output = self.pool(F.relu(self.conv2(output)))\n",
        "        output = torch.flatten(output, 1)\n",
        "        output = F.relu(self.fc1(output))\n",
        "        output = F.relu(self.fc2(output))\n",
        "        output = self.dropout(output)\n",
        "        output = self.fc3(output)\n",
        "        return output\n",
        "\n",
        "# Set torch to static seed\n",
        "torch.random.manual_seed(1)\n",
        "# Detect if gpu hardware is avaiable\n",
        "device = torch.device(\"cuda:0\" if torch.cuda.is_available() else \"cpu\")\n",
        "if use_conv_net:\n",
        "    net = ConvNet().to(device)\n",
        "else:\n",
        "    net = NeuralNet().to(device)"
      ]
    },
    {
      "cell_type": "markdown",
      "source": [
        "Define loss function and optimiser"
      ],
      "metadata": {
        "id": "C7I58QDGfViA"
      }
    },
    {
      "cell_type": "code",
      "execution_count": 3,
      "metadata": {
        "id": "TZfL-PtCI5Vh"
      },
      "outputs": [],
      "source": [
        "import torch.optim as optim\n",
        "\n",
        "# Default learning rate\n",
        "learning_rate = 0.03\n",
        "\n",
        "# Loss function\n",
        "loss_function = nn.CrossEntropyLoss()\n",
        "\n",
        "# Set optimiser to stochastic gradient descent with momentum\n",
        "optimiser = optim.SGD(net.parameters(), lr=learning_rate, momentum=0.7)"
      ]
    },
    {
      "cell_type": "markdown",
      "source": [
        "Train using Neural Net"
      ],
      "metadata": {
        "id": "Pacgv1-2fZeY"
      }
    },
    {
      "cell_type": "code",
      "execution_count": 4,
      "metadata": {
        "colab": {
          "base_uri": "https://localhost:8080/"
        },
        "id": "Sm9f9kt0I7MI",
        "outputId": "bed38a85-616a-4b75-bfa8-fb8024c73cec"
      },
      "outputs": [
        {
          "output_type": "stream",
          "name": "stderr",
          "text": [
            "epoch 1: 100%|██████████| 1563/1563 [00:35<00:00, 43.62batch/s, loss=1.72]\n",
            "epoch 2: 100%|██████████| 1563/1563 [00:35<00:00, 44.27batch/s, loss=1.54]\n",
            "epoch 3: 100%|██████████| 1563/1563 [00:35<00:00, 44.25batch/s, loss=1.47]\n",
            "epoch 4: 100%|██████████| 1563/1563 [00:34<00:00, 45.49batch/s, loss=1.42]\n",
            "epoch 5: 100%|██████████| 1563/1563 [00:34<00:00, 45.25batch/s, loss=1.38]\n"
          ]
        }
      ],
      "source": [
        "from tqdm import tqdm\n",
        "\n",
        "# Set amount of epochs\n",
        "number_of_epochs = 5\n",
        "\n",
        "for epoch in range(number_of_epochs):\n",
        "    epoch_loss = 0.0\n",
        "    with tqdm(training_data_loader, unit='batch') as tqdm_epoch:\n",
        "        for i, data in enumerate(tqdm_epoch):\n",
        "            tqdm_epoch.set_description(f\"epoch {epoch + 1}\")\n",
        "            if torch.cuda.is_available():\n",
        "                inputs, labels = data[0].to(device), data[1].to(device)\n",
        "            else:\n",
        "                inputs, labels = data\n",
        "            # Set the gradient of all optimized tensors to zero.\n",
        "            optimiser.zero_grad()\n",
        "\n",
        "            outputs = net(inputs)\n",
        "            loss = loss_function(outputs, labels)\n",
        "            # Compute the gradient of current tensor\n",
        "            loss.backward()\n",
        "            # Perform single optimization step\n",
        "            optimiser.step()\n",
        "            epoch_loss += loss.item()\n",
        "            tqdm_epoch.set_postfix(loss=(epoch_loss/tqdm_epoch.total))\n",
        "\n",
        "# Save nn model\n",
        "torch.save(net.state_dict(), './trained_net.pt')"
      ]
    },
    {
      "cell_type": "markdown",
      "source": [
        "Test Accuarcy"
      ],
      "metadata": {
        "id": "DPoRQErwfesX"
      }
    },
    {
      "cell_type": "code",
      "execution_count": 5,
      "metadata": {
        "id": "KESU__MPKrIC",
        "colab": {
          "base_uri": "https://localhost:8080/"
        },
        "outputId": "5973311d-945c-4d5a-feae-78b1bf2185f5"
      },
      "outputs": [
        {
          "output_type": "stream",
          "name": "stdout",
          "text": [
            "NN Accuracy: 48.25%\n"
          ]
        }
      ],
      "source": [
        "correct_predictions = 0\n",
        "# Don't calculate grad\n",
        "with torch.no_grad():\n",
        "    # Each test image\n",
        "    for data in testing_data_loader:\n",
        "        if torch.cuda.is_available():\n",
        "            inputs, labels = data[0].to(device), data[1].to(device)\n",
        "        else:\n",
        "            inputs, labels = data\n",
        "        outputs = net(inputs)\n",
        "        _, predicted = torch.max(outputs.data, 1)\n",
        "        correct_predictions += (predicted == labels).sum().item()\n",
        "\n",
        "if use_conv_net:\n",
        "    print(\n",
        "        f'CNN Accuracy: {(100 * correct_predictions / len(testing_data_loader.dataset))}%')\n",
        "else:\n",
        "    print(\n",
        "        f'NN Accuracy: {(100 * correct_predictions / len(testing_data_loader.dataset))}%')"
      ]
    }
  ],
  "metadata": {
    "accelerator": "GPU",
    "colab": {
      "collapsed_sections": [],
      "name": "task-4.ipynb",
      "provenance": []
    },
    "kernelspec": {
      "display_name": "Python 3",
      "name": "python3"
    },
    "language_info": {
      "name": "python"
    },
    "widgets": {
      "application/vnd.jupyter.widget-state+json": {
        "9236ae7d951b460c9dec08ab24cdf658": {
          "model_module": "@jupyter-widgets/controls",
          "model_name": "HBoxModel",
          "model_module_version": "1.5.0",
          "state": {
            "_view_name": "HBoxView",
            "_dom_classes": [],
            "_model_name": "HBoxModel",
            "_view_module": "@jupyter-widgets/controls",
            "_model_module_version": "1.5.0",
            "_view_count": null,
            "_view_module_version": "1.5.0",
            "box_style": "",
            "layout": "IPY_MODEL_866a7d12258b4d539ff304ea1bb8d810",
            "_model_module": "@jupyter-widgets/controls",
            "children": [
              "IPY_MODEL_1cbcacd940914e638de21a205b48b0b4",
              "IPY_MODEL_9bec6f940edc45c3b658d76dce953b0c",
              "IPY_MODEL_b0eacd5452b1414eba20667aab33a725"
            ]
          }
        },
        "866a7d12258b4d539ff304ea1bb8d810": {
          "model_module": "@jupyter-widgets/base",
          "model_name": "LayoutModel",
          "model_module_version": "1.2.0",
          "state": {
            "_view_name": "LayoutView",
            "grid_template_rows": null,
            "right": null,
            "justify_content": null,
            "_view_module": "@jupyter-widgets/base",
            "overflow": null,
            "_model_module_version": "1.2.0",
            "_view_count": null,
            "flex_flow": null,
            "width": null,
            "min_width": null,
            "border": null,
            "align_items": null,
            "bottom": null,
            "_model_module": "@jupyter-widgets/base",
            "top": null,
            "grid_column": null,
            "overflow_y": null,
            "overflow_x": null,
            "grid_auto_flow": null,
            "grid_area": null,
            "grid_template_columns": null,
            "flex": null,
            "_model_name": "LayoutModel",
            "justify_items": null,
            "grid_row": null,
            "max_height": null,
            "align_content": null,
            "visibility": null,
            "align_self": null,
            "height": null,
            "min_height": null,
            "padding": null,
            "grid_auto_rows": null,
            "grid_gap": null,
            "max_width": null,
            "order": null,
            "_view_module_version": "1.2.0",
            "grid_template_areas": null,
            "object_position": null,
            "object_fit": null,
            "grid_auto_columns": null,
            "margin": null,
            "display": null,
            "left": null
          }
        },
        "1cbcacd940914e638de21a205b48b0b4": {
          "model_module": "@jupyter-widgets/controls",
          "model_name": "HTMLModel",
          "model_module_version": "1.5.0",
          "state": {
            "_view_name": "HTMLView",
            "style": "IPY_MODEL_bcec964a481b40af8fe73e7c28dc6a41",
            "_dom_classes": [],
            "description": "",
            "_model_name": "HTMLModel",
            "placeholder": "​",
            "_view_module": "@jupyter-widgets/controls",
            "_model_module_version": "1.5.0",
            "value": "",
            "_view_count": null,
            "_view_module_version": "1.5.0",
            "description_tooltip": null,
            "_model_module": "@jupyter-widgets/controls",
            "layout": "IPY_MODEL_4ddf741289d6416ca9e1292391ca8a10"
          }
        },
        "9bec6f940edc45c3b658d76dce953b0c": {
          "model_module": "@jupyter-widgets/controls",
          "model_name": "FloatProgressModel",
          "model_module_version": "1.5.0",
          "state": {
            "_view_name": "ProgressView",
            "style": "IPY_MODEL_ca8636ba29044c559c6d568160fff97c",
            "_dom_classes": [],
            "description": "",
            "_model_name": "FloatProgressModel",
            "bar_style": "success",
            "max": 170498071,
            "_view_module": "@jupyter-widgets/controls",
            "_model_module_version": "1.5.0",
            "value": 170498071,
            "_view_count": null,
            "_view_module_version": "1.5.0",
            "orientation": "horizontal",
            "min": 0,
            "description_tooltip": null,
            "_model_module": "@jupyter-widgets/controls",
            "layout": "IPY_MODEL_b100b112a99f4d51b8f2e9418235135f"
          }
        },
        "b0eacd5452b1414eba20667aab33a725": {
          "model_module": "@jupyter-widgets/controls",
          "model_name": "HTMLModel",
          "model_module_version": "1.5.0",
          "state": {
            "_view_name": "HTMLView",
            "style": "IPY_MODEL_760207c549fc472eb487ac5e839c4a47",
            "_dom_classes": [],
            "description": "",
            "_model_name": "HTMLModel",
            "placeholder": "​",
            "_view_module": "@jupyter-widgets/controls",
            "_model_module_version": "1.5.0",
            "value": " 170499072/? [00:03&lt;00:00, 56105288.35it/s]",
            "_view_count": null,
            "_view_module_version": "1.5.0",
            "description_tooltip": null,
            "_model_module": "@jupyter-widgets/controls",
            "layout": "IPY_MODEL_09f38198d337464491f932a4eff2140f"
          }
        },
        "bcec964a481b40af8fe73e7c28dc6a41": {
          "model_module": "@jupyter-widgets/controls",
          "model_name": "DescriptionStyleModel",
          "model_module_version": "1.5.0",
          "state": {
            "_view_name": "StyleView",
            "_model_name": "DescriptionStyleModel",
            "description_width": "",
            "_view_module": "@jupyter-widgets/base",
            "_model_module_version": "1.5.0",
            "_view_count": null,
            "_view_module_version": "1.2.0",
            "_model_module": "@jupyter-widgets/controls"
          }
        },
        "4ddf741289d6416ca9e1292391ca8a10": {
          "model_module": "@jupyter-widgets/base",
          "model_name": "LayoutModel",
          "model_module_version": "1.2.0",
          "state": {
            "_view_name": "LayoutView",
            "grid_template_rows": null,
            "right": null,
            "justify_content": null,
            "_view_module": "@jupyter-widgets/base",
            "overflow": null,
            "_model_module_version": "1.2.0",
            "_view_count": null,
            "flex_flow": null,
            "width": null,
            "min_width": null,
            "border": null,
            "align_items": null,
            "bottom": null,
            "_model_module": "@jupyter-widgets/base",
            "top": null,
            "grid_column": null,
            "overflow_y": null,
            "overflow_x": null,
            "grid_auto_flow": null,
            "grid_area": null,
            "grid_template_columns": null,
            "flex": null,
            "_model_name": "LayoutModel",
            "justify_items": null,
            "grid_row": null,
            "max_height": null,
            "align_content": null,
            "visibility": null,
            "align_self": null,
            "height": null,
            "min_height": null,
            "padding": null,
            "grid_auto_rows": null,
            "grid_gap": null,
            "max_width": null,
            "order": null,
            "_view_module_version": "1.2.0",
            "grid_template_areas": null,
            "object_position": null,
            "object_fit": null,
            "grid_auto_columns": null,
            "margin": null,
            "display": null,
            "left": null
          }
        },
        "ca8636ba29044c559c6d568160fff97c": {
          "model_module": "@jupyter-widgets/controls",
          "model_name": "ProgressStyleModel",
          "model_module_version": "1.5.0",
          "state": {
            "_view_name": "StyleView",
            "_model_name": "ProgressStyleModel",
            "description_width": "",
            "_view_module": "@jupyter-widgets/base",
            "_model_module_version": "1.5.0",
            "_view_count": null,
            "_view_module_version": "1.2.0",
            "bar_color": null,
            "_model_module": "@jupyter-widgets/controls"
          }
        },
        "b100b112a99f4d51b8f2e9418235135f": {
          "model_module": "@jupyter-widgets/base",
          "model_name": "LayoutModel",
          "model_module_version": "1.2.0",
          "state": {
            "_view_name": "LayoutView",
            "grid_template_rows": null,
            "right": null,
            "justify_content": null,
            "_view_module": "@jupyter-widgets/base",
            "overflow": null,
            "_model_module_version": "1.2.0",
            "_view_count": null,
            "flex_flow": null,
            "width": null,
            "min_width": null,
            "border": null,
            "align_items": null,
            "bottom": null,
            "_model_module": "@jupyter-widgets/base",
            "top": null,
            "grid_column": null,
            "overflow_y": null,
            "overflow_x": null,
            "grid_auto_flow": null,
            "grid_area": null,
            "grid_template_columns": null,
            "flex": null,
            "_model_name": "LayoutModel",
            "justify_items": null,
            "grid_row": null,
            "max_height": null,
            "align_content": null,
            "visibility": null,
            "align_self": null,
            "height": null,
            "min_height": null,
            "padding": null,
            "grid_auto_rows": null,
            "grid_gap": null,
            "max_width": null,
            "order": null,
            "_view_module_version": "1.2.0",
            "grid_template_areas": null,
            "object_position": null,
            "object_fit": null,
            "grid_auto_columns": null,
            "margin": null,
            "display": null,
            "left": null
          }
        },
        "760207c549fc472eb487ac5e839c4a47": {
          "model_module": "@jupyter-widgets/controls",
          "model_name": "DescriptionStyleModel",
          "model_module_version": "1.5.0",
          "state": {
            "_view_name": "StyleView",
            "_model_name": "DescriptionStyleModel",
            "description_width": "",
            "_view_module": "@jupyter-widgets/base",
            "_model_module_version": "1.5.0",
            "_view_count": null,
            "_view_module_version": "1.2.0",
            "_model_module": "@jupyter-widgets/controls"
          }
        },
        "09f38198d337464491f932a4eff2140f": {
          "model_module": "@jupyter-widgets/base",
          "model_name": "LayoutModel",
          "model_module_version": "1.2.0",
          "state": {
            "_view_name": "LayoutView",
            "grid_template_rows": null,
            "right": null,
            "justify_content": null,
            "_view_module": "@jupyter-widgets/base",
            "overflow": null,
            "_model_module_version": "1.2.0",
            "_view_count": null,
            "flex_flow": null,
            "width": null,
            "min_width": null,
            "border": null,
            "align_items": null,
            "bottom": null,
            "_model_module": "@jupyter-widgets/base",
            "top": null,
            "grid_column": null,
            "overflow_y": null,
            "overflow_x": null,
            "grid_auto_flow": null,
            "grid_area": null,
            "grid_template_columns": null,
            "flex": null,
            "_model_name": "LayoutModel",
            "justify_items": null,
            "grid_row": null,
            "max_height": null,
            "align_content": null,
            "visibility": null,
            "align_self": null,
            "height": null,
            "min_height": null,
            "padding": null,
            "grid_auto_rows": null,
            "grid_gap": null,
            "max_width": null,
            "order": null,
            "_view_module_version": "1.2.0",
            "grid_template_areas": null,
            "object_position": null,
            "object_fit": null,
            "grid_auto_columns": null,
            "margin": null,
            "display": null,
            "left": null
          }
        }
      }
    }
  },
  "nbformat": 4,
  "nbformat_minor": 0
}