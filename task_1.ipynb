{
  "cells": [
    {
      "cell_type": "markdown",
      "metadata": {
        "id": "q9dUnEQYFXdo"
      },
      "source": [
        "Import required python packages"
      ]
    },
    {
      "cell_type": "code",
      "execution_count": 1,
      "metadata": {
        "id": "JOyg_plQcmH0"
      },
      "outputs": [],
      "source": [
        "import numpy as np\n",
        "import numpy.ma as ma\n",
        "import networkx as nx\n",
        "import copy\n",
        "import heapq as hq\n",
        "from collections import defaultdict\n",
        "from matplotlib import pyplot as plt\n",
        "\n",
        "# Set game mode\n",
        "ABSOLUTE = True\n",
        "CELL_MAX = 10\n",
        "GRID_SIZE = 10"
      ]
    },
    {
      "cell_type": "markdown",
      "metadata": {
        "id": "URr71rF2Fb0z"
      },
      "source": [
        "Implement Dijkstra algorithm "
      ]
    },
    {
      "cell_type": "code",
      "execution_count": 2,
      "metadata": {
        "id": "dDWUjX4bYu2s"
      },
      "outputs": [],
      "source": [
        "def generate_dijkstra_path(grid: np.ndarray):\n",
        "    # Generate grid of the same size as the input grid\n",
        "    path = np.zeros((GRID_SIZE, GRID_SIZE), dtype=bool)\n",
        "    # Generate a graph from the grid size\n",
        "    G = nx.grid_2d_graph(GRID_SIZE, GRID_SIZE)\n",
        "    for edge in G.edges():\n",
        "        if ABSOLUTE:\n",
        "            # Set the weight of each edge to the abs value of the two vertices\n",
        "            G[edge[0]][edge[1]]['w'] = np.absolute(\n",
        "                grid[edge[0][0], edge[0][1]] - grid[edge[1][0], edge[1][1]])\n",
        "        else:\n",
        "            # Set the weight of each edge to the sum of the two vertices\n",
        "            G[edge[0]][edge[1]]['w'] = grid[edge[0][0],\n",
        "                                            edge[0][1]] + grid[edge[1][0], edge[1][1]]\n",
        "    # Define the start and end node\n",
        "    start_node = (0, 0)\n",
        "    target_node = (GRID_SIZE-1, GRID_SIZE-1)\n",
        "\n",
        "    # Collect visited nodes\n",
        "    visited_nodes = set()\n",
        "    # Define the queue\n",
        "    node_mappings = {}\n",
        "    # Define the priority queue\n",
        "    priority_queue = []\n",
        "    node_costs = defaultdict(lambda: float('inf'))\n",
        "    node_costs[start_node] = 0\n",
        "    hq.heappush(priority_queue, (0, start_node))\n",
        "\n",
        "    # Loop until the end node is reached (this is the algorithm)\n",
        "    while priority_queue:\n",
        "        # Get the node with the lowest cost, greedily\n",
        "        _, node = hq.heappop(priority_queue)\n",
        "        # Add the current node to the visited nodes\n",
        "        visited_nodes.add(node)\n",
        "        # Check if end node is reached\n",
        "        if node == target_node:\n",
        "            break\n",
        "        # Get the neighbours of the current node\n",
        "        for next_node, weight in G[node].items():\n",
        "            # Check if the neighbour is already visited\n",
        "            if next_node in visited_nodes:\n",
        "                continue\n",
        "            updated_cost = node_costs[node] + weight.get('w')\n",
        "            # If the cost is lower than the current cost, update the cost and push the node to the queue\n",
        "            if updated_cost < node_costs[next_node]:\n",
        "                # Update the cost and mapping\n",
        "                node_mappings[next_node] = node\n",
        "                node_costs[next_node] = updated_cost\n",
        "                hq.heappush(priority_queue, (updated_cost, next_node))\n",
        "\n",
        "    # Reconstruct the path\n",
        "    final_path = []\n",
        "    current_node = target_node\n",
        "    final_path.append(current_node)\n",
        "    # Iterate until the start node is reached\n",
        "    while current_node != start_node:\n",
        "        current_node = node_mappings[current_node]\n",
        "        final_path.append(current_node)\n",
        "    # Update the path mask with the final path\n",
        "    for node in final_path:\n",
        "        path[node[0], node[1]] = True\n",
        "    # Return the correct path total depending on the game mode\n",
        "    if ABSOLUTE:\n",
        "        total_cost = node_costs[target_node]\n",
        "    else:\n",
        "        total_cost = ma.masked_where(path == False, grid).sum()\n",
        "    # Return path and total cost\n",
        "    return path, total_cost\n"
      ]
    },
    {
      "cell_type": "markdown",
      "metadata": {
        "id": "beSzvYPNFfXq"
      },
      "source": [
        "Implement the Heuristic Algorithm"
      ]
    },
    {
      "cell_type": "code",
      "execution_count": 3,
      "metadata": {
        "id": "OVQ32RbOdGL4"
      },
      "outputs": [],
      "source": [
        "def generate_heuristic_path(grid: np.ndarray):\n",
        "    # Generate grid of the same size as the input grid\n",
        "    path = np.zeros((GRID_SIZE, GRID_SIZE), dtype=bool)\n",
        "    # Generate a graph from the grid size\n",
        "    G = nx.grid_2d_graph(GRID_SIZE, GRID_SIZE)\n",
        "    for edge in G.edges():\n",
        "        if ABSOLUTE:\n",
        "            # Set the weight of each edge to the abs value of the two vertices\n",
        "            G[edge[0]][edge[1]]['w'] = np.absolute(\n",
        "                grid[edge[0][0], edge[0][1]] - grid[edge[1][0], edge[1][1]])\n",
        "        else:\n",
        "            # Set the weight of each edge to the sum of the two vertices\n",
        "            G[edge[0]][edge[1]]['w'] = grid[edge[0][0],\n",
        "                                            edge[0][1]] + grid[edge[1][0], edge[1][1]]\n",
        "\n",
        "    # Define the start and end node\n",
        "    start_node = (0, 0)\n",
        "    target_node = (GRID_SIZE-1, GRID_SIZE-1)\n",
        "    end_reached = False\n",
        "    # Set current node\n",
        "    current_node = start_node\n",
        "    # Define direction vectors\n",
        "    right_add = (0, 1)\n",
        "    down_add = (1, 0)\n",
        "    # Set start node as visited\n",
        "    path[current_node] = True\n",
        "    total = 0\n",
        "    while not end_reached:\n",
        "        # Genereate the neighbours position of the current node\n",
        "        right_cell_pos = tuple(np.add(current_node,right_add))\n",
        "        down_cell_pos = tuple(np.add(current_node,down_add))\n",
        "        # Get the neighbours of the current node\n",
        "        adjacent_nodes = G[current_node]\n",
        "\n",
        "        # Check if the right neighbour is valid\n",
        "        if right_cell_pos in adjacent_nodes:\n",
        "            right_cell_weight = adjacent_nodes[right_cell_pos].get('w')\n",
        "        else:\n",
        "            right_cell_weight = -1\n",
        "        # Check if the down neighbour is valid\n",
        "        if down_cell_pos in adjacent_nodes:\n",
        "            down_cell_weight = adjacent_nodes[down_cell_pos].get('w')\n",
        "        else:\n",
        "            down_cell_weight = -1\n",
        "        # If the right neighbour is not valid, go down\n",
        "        if right_cell_weight == -1 and down_cell_weight != -1:\n",
        "            total += down_cell_weight\n",
        "            current_node = down_cell_pos\n",
        "        # If the down neighbour is not valid, go right\n",
        "        elif down_cell_weight == -1 and right_cell_weight != -1:\n",
        "            total += right_cell_weight\n",
        "            current_node = right_cell_pos\n",
        "        # If both neighbours are valid, go right if the right neighbour has a lower weight\n",
        "        elif right_cell_weight < down_cell_weight:\n",
        "            total += right_cell_weight\n",
        "            current_node = right_cell_pos\n",
        "        # If both neighbours are valid, go down if the down neighbour has a lower weight\n",
        "        elif down_cell_weight < right_cell_weight:\n",
        "            total += down_cell_weight\n",
        "            current_node = down_cell_pos\n",
        "        # If both neighbours have the same weight, go down\n",
        "        else:\n",
        "            total += down_cell_weight\n",
        "            current_node = down_cell_pos\n",
        "        # Set current position as visited\n",
        "        path[current_node] = True\n",
        "        # Check if the end node is reached\n",
        "        if current_node == target_node:\n",
        "            end_reached = True\n",
        "    # Return the correct path total depending on the game mode\n",
        "    if not ABSOLUTE:\n",
        "        total = ma.masked_where(path == False, grid).sum()\n",
        "    # Return path and total cost\n",
        "    return path, total\n"
      ]
    },
    {
      "cell_type": "markdown",
      "metadata": {
        "id": "Xb9VHQHZFg21"
      },
      "source": [
        "Display the path replace x and y with generated numbers and --- with red colour"
      ]
    },
    {
      "cell_type": "code",
      "execution_count": 4,
      "metadata": {
        "id": "JoLZAArddC6g"
      },
      "outputs": [],
      "source": [
        "#displays the path\n",
        "def display_plot(grid, solved_path, path_total, title): \n",
        "    solved_path_mask = np.ma.masked_where(solved_path == True, solved_path)\n",
        "    current_cmap = copy.copy(plt.get_cmap('PuRd'))\n",
        "    # transform --- to colour (red)\n",
        "    current_cmap.set_bad(color='red')\n",
        "    _, ax = plt.subplots(figsize=(7, 7))\n",
        "    # Createt 2d matrix\n",
        "    ax.matshow(grid)\n",
        "    ax.matshow(solved_path_mask, cmap=current_cmap)\n",
        "\n",
        "    # Add cell value to text\n",
        "    for (pos_y, pos_x), value in np.ndenumerate(grid):\n",
        "      ax.text(pos_x, pos_y, str(value), ha='center', va='center')\n",
        "\n",
        "    # Add height and width of grid to the plot\n",
        "    ax.set_xlabel(GRID_SIZE)\n",
        "    ax.set_ylabel(GRID_SIZE)\n",
        "\n",
        "    # Remove x and y ticks and labels\n",
        "    ax.set_yticklabels([])\n",
        "    ax.set_xticklabels([])\n",
        "    ax.set_xticks([])\n",
        "    ax.set_yticks([])\n",
        "\n",
        "    # Set the title and show the plot\n",
        "    plt.title(f\"Total: {path_total}\")\n",
        "    if ABSOLUTE:\n",
        "        plt.suptitle(f'{title} - Absolute')\n",
        "    else:\n",
        "        plt.suptitle(f'{title} - Normal')\n",
        "    plt.show()\n"
      ]
    },
    {
      "cell_type": "markdown",
      "metadata": {
        "id": "Itblf7DWFiEm"
      },
      "source": [
        "Generate and display the grid\n"
      ]
    },
    {
      "cell_type": "code",
      "execution_count": 5,
      "metadata": {
        "colab": {
          "base_uri": "https://localhost:8080/",
          "height": 934
        },
        "id": "s9fZudABcr08",
        "outputId": "312515d9-7ebe-4e9b-d670-34f97080e2c8"
      },
      "outputs": [
        {
          "output_type": "display_data",
          "data": {
            "image/png": "[encoded data removed]",
            "text/plain": [
              "<Figure size 504x504 with 1 Axes>"
            ]
          },
          "metadata": {}
        },
        {
          "output_type": "display_data",
          "data": {
            "image/png": "[encoded data removed]",
            "text/plain": [
              "<Figure size 504x504 with 1 Axes>"
            ]
          },
          "metadata": {}
        }
      ],
      "source": [
        "def generate_grid_values():\n",
        "    return np.random.randint(0, CELL_MAX, size=(GRID_SIZE, GRID_SIZE))\n",
        "\n",
        "\n",
        "grid = generate_grid_values()\n",
        "\n",
        "# Pass generated grid to Heuristic function to generate solved path and total cost\n",
        "solved_path_heuristic_mask, heuristic_path_total = generate_heuristic_path(grid)\n",
        "# Display grid and solved path with total cost\n",
        "display_plot(grid, solved_path_heuristic_mask, heuristic_path_total, \"Heuristic\")\n",
        "\n",
        "# Pass generated grid to Dijkstra function to generate solved path and total cost\n",
        "solved_path_dijkstra_mask, dijkstra_path_total = generate_dijkstra_path(grid)\n",
        "# Display grid and solved path with total cost\n",
        "display_plot(grid, solved_path_dijkstra_mask, dijkstra_path_total, \"Dijkstra\")\n"
      ]
    }
  ],
  "metadata": {
    "colab": {
      "collapsed_sections": [],
      "name": "task-1.ipynb",
      "provenance": []
    },
    "kernelspec": {
      "display_name": "Python 3",
      "name": "python3"
    },
    "language_info": {
      "name": "python"
    }
  },
  "nbformat": 4,
  "nbformat_minor": 0
}