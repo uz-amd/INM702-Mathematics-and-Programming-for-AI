{
  "nbformat": 4,
  "nbformat_minor": 0,
  "metadata": {
    "colab": {
      "name": "task-3.ipynb",
      "provenance": [],
      "collapsed_sections": []
    },
    "kernelspec": {
      "name": "python3",
      "display_name": "Python 3"
    },
    "language_info": {
      "name": "python"
    },
    "widgets": {
      "application/vnd.jupyter.widget-state+json": {
        "d30e1bbac68b467589d1e55f342b1797": {
          "model_module": "@jupyter-widgets/controls",
          "model_name": "HBoxModel",
          "model_module_version": "1.5.0",
          "state": {
            "_view_name": "HBoxView",
            "_dom_classes": [],
            "_model_name": "HBoxModel",
            "_view_module": "@jupyter-widgets/controls",
            "_model_module_version": "1.5.0",
            "_view_count": null,
            "_view_module_version": "1.5.0",
            "box_style": "",
            "layout": "IPY_MODEL_e1db96efeda54556886db68bebec1a9e",
            "_model_module": "@jupyter-widgets/controls",
            "children": [
              "IPY_MODEL_95864ec620ba4a6da8d268aaf116544e",
              "IPY_MODEL_3ec116c5b185469a8f966e1511f3bcb9",
              "IPY_MODEL_254eb58ba3064048a3edd5a1f535748e"
            ]
          }
        },
        "e1db96efeda54556886db68bebec1a9e": {
          "model_module": "@jupyter-widgets/base",
          "model_name": "LayoutModel",
          "model_module_version": "1.2.0",
          "state": {
            "_view_name": "LayoutView",
            "grid_template_rows": null,
            "right": null,
            "justify_content": null,
            "_view_module": "@jupyter-widgets/base",
            "overflow": null,
            "_model_module_version": "1.2.0",
            "_view_count": null,
            "flex_flow": null,
            "width": null,
            "min_width": null,
            "border": null,
            "align_items": null,
            "bottom": null,
            "_model_module": "@jupyter-widgets/base",
            "top": null,
            "grid_column": null,
            "overflow_y": null,
            "overflow_x": null,
            "grid_auto_flow": null,
            "grid_area": null,
            "grid_template_columns": null,
            "flex": null,
            "_model_name": "LayoutModel",
            "justify_items": null,
            "grid_row": null,
            "max_height": null,
            "align_content": null,
            "visibility": null,
            "align_self": null,
            "height": null,
            "min_height": null,
            "padding": null,
            "grid_auto_rows": null,
            "grid_gap": null,
            "max_width": null,
            "order": null,
            "_view_module_version": "1.2.0",
            "grid_template_areas": null,
            "object_position": null,
            "object_fit": null,
            "grid_auto_columns": null,
            "margin": null,
            "display": null,
            "left": null
          }
        },
        "95864ec620ba4a6da8d268aaf116544e": {
          "model_module": "@jupyter-widgets/controls",
          "model_name": "HTMLModel",
          "model_module_version": "1.5.0",
          "state": {
            "_view_name": "HTMLView",
            "style": "IPY_MODEL_f14b765274534f4db4ef56f0408504a2",
            "_dom_classes": [],
            "description": "",
            "_model_name": "HTMLModel",
            "placeholder": "​",
            "_view_module": "@jupyter-widgets/controls",
            "_model_module_version": "1.5.0",
            "value": "",
            "_view_count": null,
            "_view_module_version": "1.5.0",
            "description_tooltip": null,
            "_model_module": "@jupyter-widgets/controls",
            "layout": "IPY_MODEL_7ff86a2a61cd47e48287922866412071"
          }
        },
        "3ec116c5b185469a8f966e1511f3bcb9": {
          "model_module": "@jupyter-widgets/controls",
          "model_name": "FloatProgressModel",
          "model_module_version": "1.5.0",
          "state": {
            "_view_name": "ProgressView",
            "style": "IPY_MODEL_c58e50d09c554d1d9467d639c82c1ebf",
            "_dom_classes": [],
            "description": "",
            "_model_name": "FloatProgressModel",
            "bar_style": "success",
            "max": 26421880,
            "_view_module": "@jupyter-widgets/controls",
            "_model_module_version": "1.5.0",
            "value": 26421880,
            "_view_count": null,
            "_view_module_version": "1.5.0",
            "orientation": "horizontal",
            "min": 0,
            "description_tooltip": null,
            "_model_module": "@jupyter-widgets/controls",
            "layout": "IPY_MODEL_62801bd615f447df8f5d50d8e66b6785"
          }
        },
        "254eb58ba3064048a3edd5a1f535748e": {
          "model_module": "@jupyter-widgets/controls",
          "model_name": "HTMLModel",
          "model_module_version": "1.5.0",
          "state": {
            "_view_name": "HTMLView",
            "style": "IPY_MODEL_68a4f1e11860401a98a38be38fc6b61d",
            "_dom_classes": [],
            "description": "",
            "_model_name": "HTMLModel",
            "placeholder": "​",
            "_view_module": "@jupyter-widgets/controls",
            "_model_module_version": "1.5.0",
            "value": " 26422272/? [00:04&lt;00:00, 9976253.21it/s]",
            "_view_count": null,
            "_view_module_version": "1.5.0",
            "description_tooltip": null,
            "_model_module": "@jupyter-widgets/controls",
            "layout": "IPY_MODEL_9cf40345de5b4367baa0aad9420d8d36"
          }
        },
        "f14b765274534f4db4ef56f0408504a2": {
          "model_module": "@jupyter-widgets/controls",
          "model_name": "DescriptionStyleModel",
          "model_module_version": "1.5.0",
          "state": {
            "_view_name": "StyleView",
            "_model_name": "DescriptionStyleModel",
            "description_width": "",
            "_view_module": "@jupyter-widgets/base",
            "_model_module_version": "1.5.0",
            "_view_count": null,
            "_view_module_version": "1.2.0",
            "_model_module": "@jupyter-widgets/controls"
          }
        },
        "7ff86a2a61cd47e48287922866412071": {
          "model_module": "@jupyter-widgets/base",
          "model_name": "LayoutModel",
          "model_module_version": "1.2.0",
          "state": {
            "_view_name": "LayoutView",
            "grid_template_rows": null,
            "right": null,
            "justify_content": null,
            "_view_module": "@jupyter-widgets/base",
            "overflow": null,
            "_model_module_version": "1.2.0",
            "_view_count": null,
            "flex_flow": null,
            "width": null,
            "min_width": null,
            "border": null,
            "align_items": null,
            "bottom": null,
            "_model_module": "@jupyter-widgets/base",
            "top": null,
            "grid_column": null,
            "overflow_y": null,
            "overflow_x": null,
            "grid_auto_flow": null,
            "grid_area": null,
            "grid_template_columns": null,
            "flex": null,
            "_model_name": "LayoutModel",
            "justify_items": null,
            "grid_row": null,
            "max_height": null,
            "align_content": null,
            "visibility": null,
            "align_self": null,
            "height": null,
            "min_height": null,
            "padding": null,
            "grid_auto_rows": null,
            "grid_gap": null,
            "max_width": null,
            "order": null,
            "_view_module_version": "1.2.0",
            "grid_template_areas": null,
            "object_position": null,
            "object_fit": null,
            "grid_auto_columns": null,
            "margin": null,
            "display": null,
            "left": null
          }
        },
        "c58e50d09c554d1d9467d639c82c1ebf": {
          "model_module": "@jupyter-widgets/controls",
          "model_name": "ProgressStyleModel",
          "model_module_version": "1.5.0",
          "state": {
            "_view_name": "StyleView",
            "_model_name": "ProgressStyleModel",
            "description_width": "",
            "_view_module": "@jupyter-widgets/base",
            "_model_module_version": "1.5.0",
            "_view_count": null,
            "_view_module_version": "1.2.0",
            "bar_color": null,
            "_model_module": "@jupyter-widgets/controls"
          }
        },
        "62801bd615f447df8f5d50d8e66b6785": {
          "model_module": "@jupyter-widgets/base",
          "model_name": "LayoutModel",
          "model_module_version": "1.2.0",
          "state": {
            "_view_name": "LayoutView",
            "grid_template_rows": null,
            "right": null,
            "justify_content": null,
            "_view_module": "@jupyter-widgets/base",
            "overflow": null,
            "_model_module_version": "1.2.0",
            "_view_count": null,
            "flex_flow": null,
            "width": null,
            "min_width": null,
            "border": null,
            "align_items": null,
            "bottom": null,
            "_model_module": "@jupyter-widgets/base",
            "top": null,
            "grid_column": null,
            "overflow_y": null,
            "overflow_x": null,
            "grid_auto_flow": null,
            "grid_area": null,
            "grid_template_columns": null,
            "flex": null,
            "_model_name": "LayoutModel",
            "justify_items": null,
            "grid_row": null,
            "max_height": null,
            "align_content": null,
            "visibility": null,
            "align_self": null,
            "height": null,
            "min_height": null,
            "padding": null,
            "grid_auto_rows": null,
            "grid_gap": null,
            "max_width": null,
            "order": null,
            "_view_module_version": "1.2.0",
            "grid_template_areas": null,
            "object_position": null,
            "object_fit": null,
            "grid_auto_columns": null,
            "margin": null,
            "display": null,
            "left": null
          }
        },
        "68a4f1e11860401a98a38be38fc6b61d": {
          "model_module": "@jupyter-widgets/controls",
          "model_name": "DescriptionStyleModel",
          "model_module_version": "1.5.0",
          "state": {
            "_view_name": "StyleView",
            "_model_name": "DescriptionStyleModel",
            "description_width": "",
            "_view_module": "@jupyter-widgets/base",
            "_model_module_version": "1.5.0",
            "_view_count": null,
            "_view_module_version": "1.2.0",
            "_model_module": "@jupyter-widgets/controls"
          }
        },
        "9cf40345de5b4367baa0aad9420d8d36": {
          "model_module": "@jupyter-widgets/base",
          "model_name": "LayoutModel",
          "model_module_version": "1.2.0",
          "state": {
            "_view_name": "LayoutView",
            "grid_template_rows": null,
            "right": null,
            "justify_content": null,
            "_view_module": "@jupyter-widgets/base",
            "overflow": null,
            "_model_module_version": "1.2.0",
            "_view_count": null,
            "flex_flow": null,
            "width": null,
            "min_width": null,
            "border": null,
            "align_items": null,
            "bottom": null,
            "_model_module": "@jupyter-widgets/base",
            "top": null,
            "grid_column": null,
            "overflow_y": null,
            "overflow_x": null,
            "grid_auto_flow": null,
            "grid_area": null,
            "grid_template_columns": null,
            "flex": null,
            "_model_name": "LayoutModel",
            "justify_items": null,
            "grid_row": null,
            "max_height": null,
            "align_content": null,
            "visibility": null,
            "align_self": null,
            "height": null,
            "min_height": null,
            "padding": null,
            "grid_auto_rows": null,
            "grid_gap": null,
            "max_width": null,
            "order": null,
            "_view_module_version": "1.2.0",
            "grid_template_areas": null,
            "object_position": null,
            "object_fit": null,
            "grid_auto_columns": null,
            "margin": null,
            "display": null,
            "left": null
          }
        },
        "7e8d36caa4d540c386f4a59bbc4bb0f0": {
          "model_module": "@jupyter-widgets/controls",
          "model_name": "HBoxModel",
          "model_module_version": "1.5.0",
          "state": {
            "_view_name": "HBoxView",
            "_dom_classes": [],
            "_model_name": "HBoxModel",
            "_view_module": "@jupyter-widgets/controls",
            "_model_module_version": "1.5.0",
            "_view_count": null,
            "_view_module_version": "1.5.0",
            "box_style": "",
            "layout": "IPY_MODEL_04b23eded10f411f855bb6299d01f63b",
            "_model_module": "@jupyter-widgets/controls",
            "children": [
              "IPY_MODEL_d7d0b5638b784aebb2664f5bca1a7530",
              "IPY_MODEL_33d2476b2f874de4a811c17f3bafb309",
              "IPY_MODEL_e42f622f758f4aa3a1fd9c937116b8db"
            ]
          }
        },
        "04b23eded10f411f855bb6299d01f63b": {
          "model_module": "@jupyter-widgets/base",
          "model_name": "LayoutModel",
          "model_module_version": "1.2.0",
          "state": {
            "_view_name": "LayoutView",
            "grid_template_rows": null,
            "right": null,
            "justify_content": null,
            "_view_module": "@jupyter-widgets/base",
            "overflow": null,
            "_model_module_version": "1.2.0",
            "_view_count": null,
            "flex_flow": null,
            "width": null,
            "min_width": null,
            "border": null,
            "align_items": null,
            "bottom": null,
            "_model_module": "@jupyter-widgets/base",
            "top": null,
            "grid_column": null,
            "overflow_y": null,
            "overflow_x": null,
            "grid_auto_flow": null,
            "grid_area": null,
            "grid_template_columns": null,
            "flex": null,
            "_model_name": "LayoutModel",
            "justify_items": null,
            "grid_row": null,
            "max_height": null,
            "align_content": null,
            "visibility": null,
            "align_self": null,
            "height": null,
            "min_height": null,
            "padding": null,
            "grid_auto_rows": null,
            "grid_gap": null,
            "max_width": null,
            "order": null,
            "_view_module_version": "1.2.0",
            "grid_template_areas": null,
            "object_position": null,
            "object_fit": null,
            "grid_auto_columns": null,
            "margin": null,
            "display": null,
            "left": null
          }
        },
        "d7d0b5638b784aebb2664f5bca1a7530": {
          "model_module": "@jupyter-widgets/controls",
          "model_name": "HTMLModel",
          "model_module_version": "1.5.0",
          "state": {
            "_view_name": "HTMLView",
            "style": "IPY_MODEL_36004cf3af7543e1a122ae12bca3bf58",
            "_dom_classes": [],
            "description": "",
            "_model_name": "HTMLModel",
            "placeholder": "​",
            "_view_module": "@jupyter-widgets/controls",
            "_model_module_version": "1.5.0",
            "value": "",
            "_view_count": null,
            "_view_module_version": "1.5.0",
            "description_tooltip": null,
            "_model_module": "@jupyter-widgets/controls",
            "layout": "IPY_MODEL_854f9319a055488ab4d5c76e1ff8e7bc"
          }
        },
        "33d2476b2f874de4a811c17f3bafb309": {
          "model_module": "@jupyter-widgets/controls",
          "model_name": "FloatProgressModel",
          "model_module_version": "1.5.0",
          "state": {
            "_view_name": "ProgressView",
            "style": "IPY_MODEL_f98e64669b854847a8883174115eb75d",
            "_dom_classes": [],
            "description": "",
            "_model_name": "FloatProgressModel",
            "bar_style": "success",
            "max": 29515,
            "_view_module": "@jupyter-widgets/controls",
            "_model_module_version": "1.5.0",
            "value": 29515,
            "_view_count": null,
            "_view_module_version": "1.5.0",
            "orientation": "horizontal",
            "min": 0,
            "description_tooltip": null,
            "_model_module": "@jupyter-widgets/controls",
            "layout": "IPY_MODEL_8c2e0d76a6484cc8b5d73f359df61972"
          }
        },
        "e42f622f758f4aa3a1fd9c937116b8db": {
          "model_module": "@jupyter-widgets/controls",
          "model_name": "HTMLModel",
          "model_module_version": "1.5.0",
          "state": {
            "_view_name": "HTMLView",
            "style": "IPY_MODEL_838815d001144186a0acb10b5fff763f",
            "_dom_classes": [],
            "description": "",
            "_model_name": "HTMLModel",
            "placeholder": "​",
            "_view_module": "@jupyter-widgets/controls",
            "_model_module_version": "1.5.0",
            "value": " 29696/? [00:00&lt;00:00, 55932.79it/s]",
            "_view_count": null,
            "_view_module_version": "1.5.0",
            "description_tooltip": null,
            "_model_module": "@jupyter-widgets/controls",
            "layout": "IPY_MODEL_a84d13d3253f43d89673e9a0e2e1914d"
          }
        },
        "36004cf3af7543e1a122ae12bca3bf58": {
          "model_module": "@jupyter-widgets/controls",
          "model_name": "DescriptionStyleModel",
          "model_module_version": "1.5.0",
          "state": {
            "_view_name": "StyleView",
            "_model_name": "DescriptionStyleModel",
            "description_width": "",
            "_view_module": "@jupyter-widgets/base",
            "_model_module_version": "1.5.0",
            "_view_count": null,
            "_view_module_version": "1.2.0",
            "_model_module": "@jupyter-widgets/controls"
          }
        },
        "854f9319a055488ab4d5c76e1ff8e7bc": {
          "model_module": "@jupyter-widgets/base",
          "model_name": "LayoutModel",
          "model_module_version": "1.2.0",
          "state": {
            "_view_name": "LayoutView",
            "grid_template_rows": null,
            "right": null,
            "justify_content": null,
            "_view_module": "@jupyter-widgets/base",
            "overflow": null,
            "_model_module_version": "1.2.0",
            "_view_count": null,
            "flex_flow": null,
            "width": null,
            "min_width": null,
            "border": null,
            "align_items": null,
            "bottom": null,
            "_model_module": "@jupyter-widgets/base",
            "top": null,
            "grid_column": null,
            "overflow_y": null,
            "overflow_x": null,
            "grid_auto_flow": null,
            "grid_area": null,
            "grid_template_columns": null,
            "flex": null,
            "_model_name": "LayoutModel",
            "justify_items": null,
            "grid_row": null,
            "max_height": null,
            "align_content": null,
            "visibility": null,
            "align_self": null,
            "height": null,
            "min_height": null,
            "padding": null,
            "grid_auto_rows": null,
            "grid_gap": null,
            "max_width": null,
            "order": null,
            "_view_module_version": "1.2.0",
            "grid_template_areas": null,
            "object_position": null,
            "object_fit": null,
            "grid_auto_columns": null,
            "margin": null,
            "display": null,
            "left": null
          }
        },
        "f98e64669b854847a8883174115eb75d": {
          "model_module": "@jupyter-widgets/controls",
          "model_name": "ProgressStyleModel",
          "model_module_version": "1.5.0",
          "state": {
            "_view_name": "StyleView",
            "_model_name": "ProgressStyleModel",
            "description_width": "",
            "_view_module": "@jupyter-widgets/base",
            "_model_module_version": "1.5.0",
            "_view_count": null,
            "_view_module_version": "1.2.0",
            "bar_color": null,
            "_model_module": "@jupyter-widgets/controls"
          }
        },
        "8c2e0d76a6484cc8b5d73f359df61972": {
          "model_module": "@jupyter-widgets/base",
          "model_name": "LayoutModel",
          "model_module_version": "1.2.0",
          "state": {
            "_view_name": "LayoutView",
            "grid_template_rows": null,
            "right": null,
            "justify_content": null,
            "_view_module": "@jupyter-widgets/base",
            "overflow": null,
            "_model_module_version": "1.2.0",
            "_view_count": null,
            "flex_flow": null,
            "width": null,
            "min_width": null,
            "border": null,
            "align_items": null,
            "bottom": null,
            "_model_module": "@jupyter-widgets/base",
            "top": null,
            "grid_column": null,
            "overflow_y": null,
            "overflow_x": null,
            "grid_auto_flow": null,
            "grid_area": null,
            "grid_template_columns": null,
            "flex": null,
            "_model_name": "LayoutModel",
            "justify_items": null,
            "grid_row": null,
            "max_height": null,
            "align_content": null,
            "visibility": null,
            "align_self": null,
            "height": null,
            "min_height": null,
            "padding": null,
            "grid_auto_rows": null,
            "grid_gap": null,
            "max_width": null,
            "order": null,
            "_view_module_version": "1.2.0",
            "grid_template_areas": null,
            "object_position": null,
            "object_fit": null,
            "grid_auto_columns": null,
            "margin": null,
            "display": null,
            "left": null
          }
        },
        "838815d001144186a0acb10b5fff763f": {
          "model_module": "@jupyter-widgets/controls",
          "model_name": "DescriptionStyleModel",
          "model_module_version": "1.5.0",
          "state": {
            "_view_name": "StyleView",
            "_model_name": "DescriptionStyleModel",
            "description_width": "",
            "_view_module": "@jupyter-widgets/base",
            "_model_module_version": "1.5.0",
            "_view_count": null,
            "_view_module_version": "1.2.0",
            "_model_module": "@jupyter-widgets/controls"
          }
        },
        "a84d13d3253f43d89673e9a0e2e1914d": {
          "model_module": "@jupyter-widgets/base",
          "model_name": "LayoutModel",
          "model_module_version": "1.2.0",
          "state": {
            "_view_name": "LayoutView",
            "grid_template_rows": null,
            "right": null,
            "justify_content": null,
            "_view_module": "@jupyter-widgets/base",
            "overflow": null,
            "_model_module_version": "1.2.0",
            "_view_count": null,
            "flex_flow": null,
            "width": null,
            "min_width": null,
            "border": null,
            "align_items": null,
            "bottom": null,
            "_model_module": "@jupyter-widgets/base",
            "top": null,
            "grid_column": null,
            "overflow_y": null,
            "overflow_x": null,
            "grid_auto_flow": null,
            "grid_area": null,
            "grid_template_columns": null,
            "flex": null,
            "_model_name": "LayoutModel",
            "justify_items": null,
            "grid_row": null,
            "max_height": null,
            "align_content": null,
            "visibility": null,
            "align_self": null,
            "height": null,
            "min_height": null,
            "padding": null,
            "grid_auto_rows": null,
            "grid_gap": null,
            "max_width": null,
            "order": null,
            "_view_module_version": "1.2.0",
            "grid_template_areas": null,
            "object_position": null,
            "object_fit": null,
            "grid_auto_columns": null,
            "margin": null,
            "display": null,
            "left": null
          }
        },
        "7888a13856404ab48381467550a215c7": {
          "model_module": "@jupyter-widgets/controls",
          "model_name": "HBoxModel",
          "model_module_version": "1.5.0",
          "state": {
            "_view_name": "HBoxView",
            "_dom_classes": [],
            "_model_name": "HBoxModel",
            "_view_module": "@jupyter-widgets/controls",
            "_model_module_version": "1.5.0",
            "_view_count": null,
            "_view_module_version": "1.5.0",
            "box_style": "",
            "layout": "IPY_MODEL_9291dd2c25e64ee998d1649709d9d549",
            "_model_module": "@jupyter-widgets/controls",
            "children": [
              "IPY_MODEL_75f23fef8588449fa42b617b1b8204af",
              "IPY_MODEL_84c8bdb275b747258d9e8a999ab50777",
              "IPY_MODEL_7c0c18a624f540c1b46689ca778ffd7b"
            ]
          }
        },
        "9291dd2c25e64ee998d1649709d9d549": {
          "model_module": "@jupyter-widgets/base",
          "model_name": "LayoutModel",
          "model_module_version": "1.2.0",
          "state": {
            "_view_name": "LayoutView",
            "grid_template_rows": null,
            "right": null,
            "justify_content": null,
            "_view_module": "@jupyter-widgets/base",
            "overflow": null,
            "_model_module_version": "1.2.0",
            "_view_count": null,
            "flex_flow": null,
            "width": null,
            "min_width": null,
            "border": null,
            "align_items": null,
            "bottom": null,
            "_model_module": "@jupyter-widgets/base",
            "top": null,
            "grid_column": null,
            "overflow_y": null,
            "overflow_x": null,
            "grid_auto_flow": null,
            "grid_area": null,
            "grid_template_columns": null,
            "flex": null,
            "_model_name": "LayoutModel",
            "justify_items": null,
            "grid_row": null,
            "max_height": null,
            "align_content": null,
            "visibility": null,
            "align_self": null,
            "height": null,
            "min_height": null,
            "padding": null,
            "grid_auto_rows": null,
            "grid_gap": null,
            "max_width": null,
            "order": null,
            "_view_module_version": "1.2.0",
            "grid_template_areas": null,
            "object_position": null,
            "object_fit": null,
            "grid_auto_columns": null,
            "margin": null,
            "display": null,
            "left": null
          }
        },
        "75f23fef8588449fa42b617b1b8204af": {
          "model_module": "@jupyter-widgets/controls",
          "model_name": "HTMLModel",
          "model_module_version": "1.5.0",
          "state": {
            "_view_name": "HTMLView",
            "style": "IPY_MODEL_78b6472a8c624ef08645f264652b5421",
            "_dom_classes": [],
            "description": "",
            "_model_name": "HTMLModel",
            "placeholder": "​",
            "_view_module": "@jupyter-widgets/controls",
            "_model_module_version": "1.5.0",
            "value": "",
            "_view_count": null,
            "_view_module_version": "1.5.0",
            "description_tooltip": null,
            "_model_module": "@jupyter-widgets/controls",
            "layout": "IPY_MODEL_27d59302602042b2a325b9632a2dfed4"
          }
        },
        "84c8bdb275b747258d9e8a999ab50777": {
          "model_module": "@jupyter-widgets/controls",
          "model_name": "FloatProgressModel",
          "model_module_version": "1.5.0",
          "state": {
            "_view_name": "ProgressView",
            "style": "IPY_MODEL_990f62cf2a81440faf5891ad2183eabb",
            "_dom_classes": [],
            "description": "",
            "_model_name": "FloatProgressModel",
            "bar_style": "success",
            "max": 4422102,
            "_view_module": "@jupyter-widgets/controls",
            "_model_module_version": "1.5.0",
            "value": 4422102,
            "_view_count": null,
            "_view_module_version": "1.5.0",
            "orientation": "horizontal",
            "min": 0,
            "description_tooltip": null,
            "_model_module": "@jupyter-widgets/controls",
            "layout": "IPY_MODEL_c7a6dbcbe6ad4f729213b0d90f46697a"
          }
        },
        "7c0c18a624f540c1b46689ca778ffd7b": {
          "model_module": "@jupyter-widgets/controls",
          "model_name": "HTMLModel",
          "model_module_version": "1.5.0",
          "state": {
            "_view_name": "HTMLView",
            "style": "IPY_MODEL_9a8f2d679237463ba46e5de9271a23be",
            "_dom_classes": [],
            "description": "",
            "_model_name": "HTMLModel",
            "placeholder": "​",
            "_view_module": "@jupyter-widgets/controls",
            "_model_module_version": "1.5.0",
            "value": " 4422656/? [00:02&lt;00:00, 3432234.06it/s]",
            "_view_count": null,
            "_view_module_version": "1.5.0",
            "description_tooltip": null,
            "_model_module": "@jupyter-widgets/controls",
            "layout": "IPY_MODEL_889f1fc6f1084a33a64c2317f3bbab8a"
          }
        },
        "78b6472a8c624ef08645f264652b5421": {
          "model_module": "@jupyter-widgets/controls",
          "model_name": "DescriptionStyleModel",
          "model_module_version": "1.5.0",
          "state": {
            "_view_name": "StyleView",
            "_model_name": "DescriptionStyleModel",
            "description_width": "",
            "_view_module": "@jupyter-widgets/base",
            "_model_module_version": "1.5.0",
            "_view_count": null,
            "_view_module_version": "1.2.0",
            "_model_module": "@jupyter-widgets/controls"
          }
        },
        "27d59302602042b2a325b9632a2dfed4": {
          "model_module": "@jupyter-widgets/base",
          "model_name": "LayoutModel",
          "model_module_version": "1.2.0",
          "state": {
            "_view_name": "LayoutView",
            "grid_template_rows": null,
            "right": null,
            "justify_content": null,
            "_view_module": "@jupyter-widgets/base",
            "overflow": null,
            "_model_module_version": "1.2.0",
            "_view_count": null,
            "flex_flow": null,
            "width": null,
            "min_width": null,
            "border": null,
            "align_items": null,
            "bottom": null,
            "_model_module": "@jupyter-widgets/base",
            "top": null,
            "grid_column": null,
            "overflow_y": null,
            "overflow_x": null,
            "grid_auto_flow": null,
            "grid_area": null,
            "grid_template_columns": null,
            "flex": null,
            "_model_name": "LayoutModel",
            "justify_items": null,
            "grid_row": null,
            "max_height": null,
            "align_content": null,
            "visibility": null,
            "align_self": null,
            "height": null,
            "min_height": null,
            "padding": null,
            "grid_auto_rows": null,
            "grid_gap": null,
            "max_width": null,
            "order": null,
            "_view_module_version": "1.2.0",
            "grid_template_areas": null,
            "object_position": null,
            "object_fit": null,
            "grid_auto_columns": null,
            "margin": null,
            "display": null,
            "left": null
          }
        },
        "990f62cf2a81440faf5891ad2183eabb": {
          "model_module": "@jupyter-widgets/controls",
          "model_name": "ProgressStyleModel",
          "model_module_version": "1.5.0",
          "state": {
            "_view_name": "StyleView",
            "_model_name": "ProgressStyleModel",
            "description_width": "",
            "_view_module": "@jupyter-widgets/base",
            "_model_module_version": "1.5.0",
            "_view_count": null,
            "_view_module_version": "1.2.0",
            "bar_color": null,
            "_model_module": "@jupyter-widgets/controls"
          }
        },
        "c7a6dbcbe6ad4f729213b0d90f46697a": {
          "model_module": "@jupyter-widgets/base",
          "model_name": "LayoutModel",
          "model_module_version": "1.2.0",
          "state": {
            "_view_name": "LayoutView",
            "grid_template_rows": null,
            "right": null,
            "justify_content": null,
            "_view_module": "@jupyter-widgets/base",
            "overflow": null,
            "_model_module_version": "1.2.0",
            "_view_count": null,
            "flex_flow": null,
            "width": null,
            "min_width": null,
            "border": null,
            "align_items": null,
            "bottom": null,
            "_model_module": "@jupyter-widgets/base",
            "top": null,
            "grid_column": null,
            "overflow_y": null,
            "overflow_x": null,
            "grid_auto_flow": null,
            "grid_area": null,
            "grid_template_columns": null,
            "flex": null,
            "_model_name": "LayoutModel",
            "justify_items": null,
            "grid_row": null,
            "max_height": null,
            "align_content": null,
            "visibility": null,
            "align_self": null,
            "height": null,
            "min_height": null,
            "padding": null,
            "grid_auto_rows": null,
            "grid_gap": null,
            "max_width": null,
            "order": null,
            "_view_module_version": "1.2.0",
            "grid_template_areas": null,
            "object_position": null,
            "object_fit": null,
            "grid_auto_columns": null,
            "margin": null,
            "display": null,
            "left": null
          }
        },
        "9a8f2d679237463ba46e5de9271a23be": {
          "model_module": "@jupyter-widgets/controls",
          "model_name": "DescriptionStyleModel",
          "model_module_version": "1.5.0",
          "state": {
            "_view_name": "StyleView",
            "_model_name": "DescriptionStyleModel",
            "description_width": "",
            "_view_module": "@jupyter-widgets/base",
            "_model_module_version": "1.5.0",
            "_view_count": null,
            "_view_module_version": "1.2.0",
            "_model_module": "@jupyter-widgets/controls"
          }
        },
        "889f1fc6f1084a33a64c2317f3bbab8a": {
          "model_module": "@jupyter-widgets/base",
          "model_name": "LayoutModel",
          "model_module_version": "1.2.0",
          "state": {
            "_view_name": "LayoutView",
            "grid_template_rows": null,
            "right": null,
            "justify_content": null,
            "_view_module": "@jupyter-widgets/base",
            "overflow": null,
            "_model_module_version": "1.2.0",
            "_view_count": null,
            "flex_flow": null,
            "width": null,
            "min_width": null,
            "border": null,
            "align_items": null,
            "bottom": null,
            "_model_module": "@jupyter-widgets/base",
            "top": null,
            "grid_column": null,
            "overflow_y": null,
            "overflow_x": null,
            "grid_auto_flow": null,
            "grid_area": null,
            "grid_template_columns": null,
            "flex": null,
            "_model_name": "LayoutModel",
            "justify_items": null,
            "grid_row": null,
            "max_height": null,
            "align_content": null,
            "visibility": null,
            "align_self": null,
            "height": null,
            "min_height": null,
            "padding": null,
            "grid_auto_rows": null,
            "grid_gap": null,
            "max_width": null,
            "order": null,
            "_view_module_version": "1.2.0",
            "grid_template_areas": null,
            "object_position": null,
            "object_fit": null,
            "grid_auto_columns": null,
            "margin": null,
            "display": null,
            "left": null
          }
        },
        "552124fe4ab84efb94ea3d6750b165ee": {
          "model_module": "@jupyter-widgets/controls",
          "model_name": "HBoxModel",
          "model_module_version": "1.5.0",
          "state": {
            "_view_name": "HBoxView",
            "_dom_classes": [],
            "_model_name": "HBoxModel",
            "_view_module": "@jupyter-widgets/controls",
            "_model_module_version": "1.5.0",
            "_view_count": null,
            "_view_module_version": "1.5.0",
            "box_style": "",
            "layout": "IPY_MODEL_b26c902ffb43430693cfd4555f1c5072",
            "_model_module": "@jupyter-widgets/controls",
            "children": [
              "IPY_MODEL_0cbffc566d714bb2866ccd40db1c1bc9",
              "IPY_MODEL_996f78db80e844d68a5157e534951ab2",
              "IPY_MODEL_32ac5a29464741a78cb8d8c6f752d890"
            ]
          }
        },
        "b26c902ffb43430693cfd4555f1c5072": {
          "model_module": "@jupyter-widgets/base",
          "model_name": "LayoutModel",
          "model_module_version": "1.2.0",
          "state": {
            "_view_name": "LayoutView",
            "grid_template_rows": null,
            "right": null,
            "justify_content": null,
            "_view_module": "@jupyter-widgets/base",
            "overflow": null,
            "_model_module_version": "1.2.0",
            "_view_count": null,
            "flex_flow": null,
            "width": null,
            "min_width": null,
            "border": null,
            "align_items": null,
            "bottom": null,
            "_model_module": "@jupyter-widgets/base",
            "top": null,
            "grid_column": null,
            "overflow_y": null,
            "overflow_x": null,
            "grid_auto_flow": null,
            "grid_area": null,
            "grid_template_columns": null,
            "flex": null,
            "_model_name": "LayoutModel",
            "justify_items": null,
            "grid_row": null,
            "max_height": null,
            "align_content": null,
            "visibility": null,
            "align_self": null,
            "height": null,
            "min_height": null,
            "padding": null,
            "grid_auto_rows": null,
            "grid_gap": null,
            "max_width": null,
            "order": null,
            "_view_module_version": "1.2.0",
            "grid_template_areas": null,
            "object_position": null,
            "object_fit": null,
            "grid_auto_columns": null,
            "margin": null,
            "display": null,
            "left": null
          }
        },
        "0cbffc566d714bb2866ccd40db1c1bc9": {
          "model_module": "@jupyter-widgets/controls",
          "model_name": "HTMLModel",
          "model_module_version": "1.5.0",
          "state": {
            "_view_name": "HTMLView",
            "style": "IPY_MODEL_d4766fc61d2840f2aac74987ade9d750",
            "_dom_classes": [],
            "description": "",
            "_model_name": "HTMLModel",
            "placeholder": "​",
            "_view_module": "@jupyter-widgets/controls",
            "_model_module_version": "1.5.0",
            "value": "",
            "_view_count": null,
            "_view_module_version": "1.5.0",
            "description_tooltip": null,
            "_model_module": "@jupyter-widgets/controls",
            "layout": "IPY_MODEL_980d9cddb8f349f5bde32ea2c8706e52"
          }
        },
        "996f78db80e844d68a5157e534951ab2": {
          "model_module": "@jupyter-widgets/controls",
          "model_name": "FloatProgressModel",
          "model_module_version": "1.5.0",
          "state": {
            "_view_name": "ProgressView",
            "style": "IPY_MODEL_e5f96f93aeaa4e1bac7abfc3d9b028c2",
            "_dom_classes": [],
            "description": "",
            "_model_name": "FloatProgressModel",
            "bar_style": "success",
            "max": 5148,
            "_view_module": "@jupyter-widgets/controls",
            "_model_module_version": "1.5.0",
            "value": 5148,
            "_view_count": null,
            "_view_module_version": "1.5.0",
            "orientation": "horizontal",
            "min": 0,
            "description_tooltip": null,
            "_model_module": "@jupyter-widgets/controls",
            "layout": "IPY_MODEL_5582cf19668948dcbec46201d64bc0a1"
          }
        },
        "32ac5a29464741a78cb8d8c6f752d890": {
          "model_module": "@jupyter-widgets/controls",
          "model_name": "HTMLModel",
          "model_module_version": "1.5.0",
          "state": {
            "_view_name": "HTMLView",
            "style": "IPY_MODEL_82e4745f2f6548828cbcd895438c6729",
            "_dom_classes": [],
            "description": "",
            "_model_name": "HTMLModel",
            "placeholder": "​",
            "_view_module": "@jupyter-widgets/controls",
            "_model_module_version": "1.5.0",
            "value": " 6144/? [00:00&lt;00:00, 150932.74it/s]",
            "_view_count": null,
            "_view_module_version": "1.5.0",
            "description_tooltip": null,
            "_model_module": "@jupyter-widgets/controls",
            "layout": "IPY_MODEL_19eeab57f07047a6831544e2e213b544"
          }
        },
        "d4766fc61d2840f2aac74987ade9d750": {
          "model_module": "@jupyter-widgets/controls",
          "model_name": "DescriptionStyleModel",
          "model_module_version": "1.5.0",
          "state": {
            "_view_name": "StyleView",
            "_model_name": "DescriptionStyleModel",
            "description_width": "",
            "_view_module": "@jupyter-widgets/base",
            "_model_module_version": "1.5.0",
            "_view_count": null,
            "_view_module_version": "1.2.0",
            "_model_module": "@jupyter-widgets/controls"
          }
        },
        "980d9cddb8f349f5bde32ea2c8706e52": {
          "model_module": "@jupyter-widgets/base",
          "model_name": "LayoutModel",
          "model_module_version": "1.2.0",
          "state": {
            "_view_name": "LayoutView",
            "grid_template_rows": null,
            "right": null,
            "justify_content": null,
            "_view_module": "@jupyter-widgets/base",
            "overflow": null,
            "_model_module_version": "1.2.0",
            "_view_count": null,
            "flex_flow": null,
            "width": null,
            "min_width": null,
            "border": null,
            "align_items": null,
            "bottom": null,
            "_model_module": "@jupyter-widgets/base",
            "top": null,
            "grid_column": null,
            "overflow_y": null,
            "overflow_x": null,
            "grid_auto_flow": null,
            "grid_area": null,
            "grid_template_columns": null,
            "flex": null,
            "_model_name": "LayoutModel",
            "justify_items": null,
            "grid_row": null,
            "max_height": null,
            "align_content": null,
            "visibility": null,
            "align_self": null,
            "height": null,
            "min_height": null,
            "padding": null,
            "grid_auto_rows": null,
            "grid_gap": null,
            "max_width": null,
            "order": null,
            "_view_module_version": "1.2.0",
            "grid_template_areas": null,
            "object_position": null,
            "object_fit": null,
            "grid_auto_columns": null,
            "margin": null,
            "display": null,
            "left": null
          }
        },
        "e5f96f93aeaa4e1bac7abfc3d9b028c2": {
          "model_module": "@jupyter-widgets/controls",
          "model_name": "ProgressStyleModel",
          "model_module_version": "1.5.0",
          "state": {
            "_view_name": "StyleView",
            "_model_name": "ProgressStyleModel",
            "description_width": "",
            "_view_module": "@jupyter-widgets/base",
            "_model_module_version": "1.5.0",
            "_view_count": null,
            "_view_module_version": "1.2.0",
            "bar_color": null,
            "_model_module": "@jupyter-widgets/controls"
          }
        },
        "5582cf19668948dcbec46201d64bc0a1": {
          "model_module": "@jupyter-widgets/base",
          "model_name": "LayoutModel",
          "model_module_version": "1.2.0",
          "state": {
            "_view_name": "LayoutView",
            "grid_template_rows": null,
            "right": null,
            "justify_content": null,
            "_view_module": "@jupyter-widgets/base",
            "overflow": null,
            "_model_module_version": "1.2.0",
            "_view_count": null,
            "flex_flow": null,
            "width": null,
            "min_width": null,
            "border": null,
            "align_items": null,
            "bottom": null,
            "_model_module": "@jupyter-widgets/base",
            "top": null,
            "grid_column": null,
            "overflow_y": null,
            "overflow_x": null,
            "grid_auto_flow": null,
            "grid_area": null,
            "grid_template_columns": null,
            "flex": null,
            "_model_name": "LayoutModel",
            "justify_items": null,
            "grid_row": null,
            "max_height": null,
            "align_content": null,
            "visibility": null,
            "align_self": null,
            "height": null,
            "min_height": null,
            "padding": null,
            "grid_auto_rows": null,
            "grid_gap": null,
            "max_width": null,
            "order": null,
            "_view_module_version": "1.2.0",
            "grid_template_areas": null,
            "object_position": null,
            "object_fit": null,
            "grid_auto_columns": null,
            "margin": null,
            "display": null,
            "left": null
          }
        },
        "82e4745f2f6548828cbcd895438c6729": {
          "model_module": "@jupyter-widgets/controls",
          "model_name": "DescriptionStyleModel",
          "model_module_version": "1.5.0",
          "state": {
            "_view_name": "StyleView",
            "_model_name": "DescriptionStyleModel",
            "description_width": "",
            "_view_module": "@jupyter-widgets/base",
            "_model_module_version": "1.5.0",
            "_view_count": null,
            "_view_module_version": "1.2.0",
            "_model_module": "@jupyter-widgets/controls"
          }
        },
        "19eeab57f07047a6831544e2e213b544": {
          "model_module": "@jupyter-widgets/base",
          "model_name": "LayoutModel",
          "model_module_version": "1.2.0",
          "state": {
            "_view_name": "LayoutView",
            "grid_template_rows": null,
            "right": null,
            "justify_content": null,
            "_view_module": "@jupyter-widgets/base",
            "overflow": null,
            "_model_module_version": "1.2.0",
            "_view_count": null,
            "flex_flow": null,
            "width": null,
            "min_width": null,
            "border": null,
            "align_items": null,
            "bottom": null,
            "_model_module": "@jupyter-widgets/base",
            "top": null,
            "grid_column": null,
            "overflow_y": null,
            "overflow_x": null,
            "grid_auto_flow": null,
            "grid_area": null,
            "grid_template_columns": null,
            "flex": null,
            "_model_name": "LayoutModel",
            "justify_items": null,
            "grid_row": null,
            "max_height": null,
            "align_content": null,
            "visibility": null,
            "align_self": null,
            "height": null,
            "min_height": null,
            "padding": null,
            "grid_auto_rows": null,
            "grid_gap": null,
            "max_width": null,
            "order": null,
            "_view_module_version": "1.2.0",
            "grid_template_areas": null,
            "object_position": null,
            "object_fit": null,
            "grid_auto_columns": null,
            "margin": null,
            "display": null,
            "left": null
          }
        }
      }
    }
  },
  "cells": [
    {
      "cell_type": "markdown",
      "source": [
        "Define layer enums"
      ],
      "metadata": {
        "id": "pJlOH73hd7eO"
      }
    },
    {
      "cell_type": "code",
      "source": [
        "import numpy as np\n",
        "from enum import Enum, auto\n",
        "\n",
        "\n",
        "class Layer(Enum):\n",
        "    CONNECTED = auto()\n",
        "\n",
        "\n",
        "class Activation(Enum):\n",
        "    RELU = auto()\n",
        "    SIGMOID = auto()\n",
        "    SOFTMAX = auto()\n",
        "\n",
        "\n",
        "class Mode(Enum):\n",
        "    TRAIN = auto()\n",
        "    TEST = auto()\n",
        "\n",
        "\n",
        "class Loss(Enum):\n",
        "    CROSS_ENTROPY = auto()\n",
        "\n",
        "\n",
        "class Optimizer(Enum):\n",
        "    SGD = auto()\n"
      ],
      "metadata": {
        "id": "c4RMjiyc-DOW"
      },
      "execution_count": 1,
      "outputs": []
    },
    {
      "cell_type": "markdown",
      "source": [
        "Define network class with forward and backward class"
      ],
      "metadata": {
        "id": "-DrkNEk0d_xb"
      }
    },
    {
      "cell_type": "code",
      "source": [
        "class Network():\n",
        "    def __init__(self, layers):\n",
        "        # Initialize the layers in the network\n",
        "        self.layers = layers\n",
        "\n",
        "    def forward_pass(self, X):\n",
        "        # Forward pass through the network and return the output\n",
        "        for layer in self.layers:\n",
        "            X = layer.forward_pass(X)\n",
        "        self.output = X\n",
        "        return self.output\n",
        "\n",
        "    def backward_pass(self, backward_pass_input):\n",
        "        # Enable backward pass if in training mode\n",
        "        if (self.mode == Mode.TRAIN):\n",
        "            self.cache = backward_pass_input\n",
        "            # Backpropagate through the network by reversing the order of the layers\n",
        "            for layer in reversed(self.layers):\n",
        "                # Set the backpropagation cache variable to the output of the previous layer\n",
        "                self.cache = layer.backward_pass(self.cache)\n",
        "\n",
        "    # Set the network mode\n",
        "    def set_mode(self, mode):\n",
        "        self.mode = mode\n"
      ],
      "metadata": {
        "id": "wXJkY9j--Ds2"
      },
      "execution_count": 2,
      "outputs": []
    },
    {
      "cell_type": "markdown",
      "source": [
        "Define Connected class with forward and backward pass"
      ],
      "metadata": {
        "id": "ZntPKrfdeEHX"
      }
    },
    {
      "cell_type": "code",
      "source": [
        "class Connected():\n",
        "    def __init__(self, features):\n",
        "        self.type = Layer.CONNECTED\n",
        "        in_features, out_features = features\n",
        "        # Initialize weights and biases\n",
        "        self.w = np.random.randn(*features) * np.sqrt(2/in_features)\n",
        "        self.b = np.random.randn(1, out_features) * np.sqrt(2/in_features)\n",
        "        # Initialize the cache\n",
        "        self.dW, self.dB = np.zeros(features), np.zeros((1, out_features))\n",
        "\n",
        "    def forward_pass(self, X):\n",
        "        # Save the cache for backward pass\n",
        "        self.cache = X\n",
        "        # Compute linear forward pass\n",
        "        return np.dot(X, self.w) + self.b\n",
        "\n",
        "    def backward_pass(self, dh):\n",
        "        m = len(dh)\n",
        "        # Compute linear backward pass\n",
        "        self.dW = (1/m) * np.dot(self.cache.T, dh)\n",
        "        self.dB = (1/m) * np.sum(dh, axis=0, keepdims=True)\n",
        "        return np.dot(dh, self.w.T)\n"
      ],
      "metadata": {
        "id": "96hH4fy6-HO4"
      },
      "execution_count": 3,
      "outputs": []
    },
    {
      "cell_type": "markdown",
      "source": [
        "Define formulas and classes for Sigmoid, Softmax and ReLU"
      ],
      "metadata": {
        "id": "xAXUYKj1eIeH"
      }
    },
    {
      "cell_type": "code",
      "source": [
        "def sigmoid_forward(Z):\n",
        "    A = 1 / (1 + np.exp(-(Z)))\n",
        "    return A\n",
        "\n",
        "\n",
        "def sigmoid_backward(dA, Z):\n",
        "    s = 1 / (1 + np.exp(-Z))\n",
        "    dZ = dA * s * (1 - s)\n",
        "    return dZ\n",
        "\n",
        "\n",
        "class Sigmoid():\n",
        "    def __init__(self):\n",
        "        self.type = Activation.SIGMOID\n",
        "\n",
        "    def forward_pass(self, Z):\n",
        "        self.cache = sigmoid_forward(Z)\n",
        "        return self.cache\n",
        "\n",
        "    def backward_pass(self, dA):\n",
        "        return sigmoid_backward(dA=dA, Z=self.cache)\n",
        "\n",
        "\n",
        "def relu_forward(Z):\n",
        "    A = np.maximum(0, Z)\n",
        "    return A\n",
        "\n",
        "\n",
        "def relu_backward(dA, Z):\n",
        "    dZ = np.array(dA, copy=True)\n",
        "    dZ[Z <= 0] = 0\n",
        "    return dZ\n",
        "\n",
        "\n",
        "class Relu():\n",
        "    def __init__(self):\n",
        "        self.type = Activation.RELU\n",
        "\n",
        "    def forward_pass(self, Z):\n",
        "        self.cache = relu_forward(Z)\n",
        "        return self.cache\n",
        "\n",
        "    def backward_pass(self, dA):\n",
        "        return relu_backward(dA=dA, Z=self.cache)\n",
        "\n",
        "\n",
        "\n",
        "def softmax_forward(X):\n",
        "    exps = np.exp(X - np.max(X, axis=1, keepdims=True))\n",
        "    return exps / (np.sum(exps, axis=1).reshape(len(exps), 1))\n",
        "\n",
        "\n",
        "def softmax_backward(Y, X):\n",
        "    return X - Y\n",
        "\n",
        "class Softmax():\n",
        "    def __init__(self):\n",
        "        self.type = Activation.SOFTMAX\n",
        "\n",
        "    def forward_pass(self, X):\n",
        "        self.cache = softmax_forward(X)\n",
        "        return self.cache\n",
        "      \n",
        "\n",
        "    def backward_pass(self, Y):\n",
        "        return softmax_backward(Y=Y, X=self.cache)\n",
        "       \n",
        "       "
      ],
      "metadata": {
        "id": "fWgpvc0w-JIN"
      },
      "execution_count": 4,
      "outputs": []
    },
    {
      "cell_type": "markdown",
      "source": [
        "Define SGD"
      ],
      "metadata": {
        "id": "d7_uszVEeOyv"
      }
    },
    {
      "cell_type": "code",
      "source": [
        "class StochasticGradientDescent():\n",
        "    def __init__(self, network, learning_rate):\n",
        "        self.type = Optimizer.SGD\n",
        "        self.network = network\n",
        "        self.learning_rate = learning_rate\n",
        "\n",
        "    def step(self):\n",
        "        for layer in self.network.layers:\n",
        "            # Update weight and bias with learning rate\n",
        "            if layer.type == Layer.CONNECTED:\n",
        "                layer.w -= self.learning_rate * layer.dW\n",
        "                layer.b -= self.learning_rate * layer.dB\n"
      ],
      "metadata": {
        "id": "6N3pteFDrd6W"
      },
      "execution_count": 5,
      "outputs": []
    },
    {
      "cell_type": "markdown",
      "source": [
        "Define Cross Entropy Loss"
      ],
      "metadata": {
        "id": "rQLXDOoueQmP"
      }
    },
    {
      "cell_type": "code",
      "source": [
        "class CrossEntropyLoss():\n",
        "    def __init__(self):\n",
        "        self.type = Loss.CROSS_ENTROPY\n",
        "\n",
        "    def __call__(self, output, targets):\n",
        "        return self.forward_pass(output, targets)\n",
        "\n",
        "    def forward_pass(self, output, targets):\n",
        "        self.cache = targets\n",
        "        batch_size = len(output)\n",
        "        # Compute cross entropy loss\n",
        "        targets = targets.argmax(axis=1).reshape(batch_size, 1)\n",
        "        targets = targets.reshape(batch_size)\n",
        "        log_likelihood = -np.log(output[np.arange(batch_size), targets])\n",
        "        return np.sum(log_likelihood)\n",
        "\n",
        "    def backward_pass(self):\n",
        "        return self.cache\n"
      ],
      "metadata": {
        "id": "x5SwQ-awreY9"
      },
      "execution_count": 6,
      "outputs": []
    },
    {
      "cell_type": "markdown",
      "source": [
        "Download and import dataset using Tourch Vision"
      ],
      "metadata": {
        "id": "rq2jT9IGeSzR"
      }
    },
    {
      "cell_type": "code",
      "source": [
        "import torchvision\n",
        "import torchvision.transforms as transforms\n",
        "from torch.utils.data import DataLoader\n",
        "\n",
        "# Define the transform\n",
        "mean = [0.5]\n",
        "std = [0.5]\n",
        "\n",
        "transform_method = transforms.Compose([\n",
        "    transforms.ToTensor(),\n",
        "    transforms.Normalize(mean=mean, std=std),\n",
        "])\n",
        "\n",
        "batch_size = 128\n",
        "\n",
        "# Download and transform datasets\n",
        "training = torchvision.datasets.FashionMNIST(\n",
        "    root='./FashionMNIST',\n",
        "    train=True,\n",
        "    download=True,\n",
        "    transform=transform_method\n",
        ")\n",
        "\n",
        "testing = torchvision.datasets.FashionMNIST(\n",
        "    root='./FashionMNIST',\n",
        "    train=False,\n",
        "    download=True,\n",
        "    transform=transform_method\n",
        ")\n",
        "\n",
        "# Create loaders for training and testing datasets\n",
        "training_loader = DataLoader(\n",
        "    dataset=training,\n",
        "    batch_size=batch_size,\n",
        "    # Shuffle training dataset\n",
        "    shuffle=True\n",
        ")\n",
        "\n",
        "testing_loader = DataLoader(\n",
        "    dataset=testing,\n",
        "    batch_size=batch_size,\n",
        "    shuffle=False\n",
        ")\n"
      ],
      "metadata": {
        "id": "LXSJv6hY-LYj",
        "colab": {
          "base_uri": "https://localhost:8080/",
          "height": 460,
          "referenced_widgets": [
            "d30e1bbac68b467589d1e55f342b1797",
            "e1db96efeda54556886db68bebec1a9e",
            "95864ec620ba4a6da8d268aaf116544e",
            "3ec116c5b185469a8f966e1511f3bcb9",
            "254eb58ba3064048a3edd5a1f535748e",
            "f14b765274534f4db4ef56f0408504a2",
            "7ff86a2a61cd47e48287922866412071",
            "c58e50d09c554d1d9467d639c82c1ebf",
            "62801bd615f447df8f5d50d8e66b6785",
            "68a4f1e11860401a98a38be38fc6b61d",
            "9cf40345de5b4367baa0aad9420d8d36",
            "7e8d36caa4d540c386f4a59bbc4bb0f0",
            "04b23eded10f411f855bb6299d01f63b",
            "d7d0b5638b784aebb2664f5bca1a7530",
            "33d2476b2f874de4a811c17f3bafb309",
            "e42f622f758f4aa3a1fd9c937116b8db",
            "36004cf3af7543e1a122ae12bca3bf58",
            "854f9319a055488ab4d5c76e1ff8e7bc",
            "f98e64669b854847a8883174115eb75d",
            "8c2e0d76a6484cc8b5d73f359df61972",
            "838815d001144186a0acb10b5fff763f",
            "a84d13d3253f43d89673e9a0e2e1914d",
            "7888a13856404ab48381467550a215c7",
            "9291dd2c25e64ee998d1649709d9d549",
            "75f23fef8588449fa42b617b1b8204af",
            "84c8bdb275b747258d9e8a999ab50777",
            "7c0c18a624f540c1b46689ca778ffd7b",
            "78b6472a8c624ef08645f264652b5421",
            "27d59302602042b2a325b9632a2dfed4",
            "990f62cf2a81440faf5891ad2183eabb",
            "c7a6dbcbe6ad4f729213b0d90f46697a",
            "9a8f2d679237463ba46e5de9271a23be",
            "889f1fc6f1084a33a64c2317f3bbab8a",
            "552124fe4ab84efb94ea3d6750b165ee",
            "b26c902ffb43430693cfd4555f1c5072",
            "0cbffc566d714bb2866ccd40db1c1bc9",
            "996f78db80e844d68a5157e534951ab2",
            "32ac5a29464741a78cb8d8c6f752d890",
            "d4766fc61d2840f2aac74987ade9d750",
            "980d9cddb8f349f5bde32ea2c8706e52",
            "e5f96f93aeaa4e1bac7abfc3d9b028c2",
            "5582cf19668948dcbec46201d64bc0a1",
            "82e4745f2f6548828cbcd895438c6729",
            "19eeab57f07047a6831544e2e213b544"
          ]
        },
        "outputId": "0fe78da7-a59e-4397-b6e2-3b6d81d8a3a8"
      },
      "execution_count": 7,
      "outputs": [
        {
          "output_type": "stream",
          "name": "stdout",
          "text": [
            "Downloading http://fashion-mnist.s3-website.eu-central-1.amazonaws.com/train-images-idx3-ubyte.gz\n",
            "Downloading http://fashion-mnist.s3-website.eu-central-1.amazonaws.com/train-images-idx3-ubyte.gz to ./FashionMNIST/FashionMNIST/raw/train-images-idx3-ubyte.gz\n"
          ]
        },
        {
          "output_type": "display_data",
          "data": {
            "application/vnd.jupyter.widget-view+json": {
              "model_id": "d30e1bbac68b467589d1e55f342b1797",
              "version_minor": 0,
              "version_major": 2
            },
            "text/plain": [
              "  0%|          | 0/26421880 [00:00<?, ?it/s]"
            ]
          },
          "metadata": {}
        },
        {
          "output_type": "stream",
          "name": "stdout",
          "text": [
            "Extracting ./FashionMNIST/FashionMNIST/raw/train-images-idx3-ubyte.gz to ./FashionMNIST/FashionMNIST/raw\n",
            "\n",
            "Downloading http://fashion-mnist.s3-website.eu-central-1.amazonaws.com/train-labels-idx1-ubyte.gz\n",
            "Downloading http://fashion-mnist.s3-website.eu-central-1.amazonaws.com/train-labels-idx1-ubyte.gz to ./FashionMNIST/FashionMNIST/raw/train-labels-idx1-ubyte.gz\n"
          ]
        },
        {
          "output_type": "display_data",
          "data": {
            "application/vnd.jupyter.widget-view+json": {
              "model_id": "7e8d36caa4d540c386f4a59bbc4bb0f0",
              "version_minor": 0,
              "version_major": 2
            },
            "text/plain": [
              "  0%|          | 0/29515 [00:00<?, ?it/s]"
            ]
          },
          "metadata": {}
        },
        {
          "output_type": "stream",
          "name": "stdout",
          "text": [
            "Extracting ./FashionMNIST/FashionMNIST/raw/train-labels-idx1-ubyte.gz to ./FashionMNIST/FashionMNIST/raw\n",
            "\n",
            "Downloading http://fashion-mnist.s3-website.eu-central-1.amazonaws.com/t10k-images-idx3-ubyte.gz\n",
            "Downloading http://fashion-mnist.s3-website.eu-central-1.amazonaws.com/t10k-images-idx3-ubyte.gz to ./FashionMNIST/FashionMNIST/raw/t10k-images-idx3-ubyte.gz\n"
          ]
        },
        {
          "output_type": "display_data",
          "data": {
            "application/vnd.jupyter.widget-view+json": {
              "model_id": "7888a13856404ab48381467550a215c7",
              "version_minor": 0,
              "version_major": 2
            },
            "text/plain": [
              "  0%|          | 0/4422102 [00:00<?, ?it/s]"
            ]
          },
          "metadata": {}
        },
        {
          "output_type": "stream",
          "name": "stdout",
          "text": [
            "Extracting ./FashionMNIST/FashionMNIST/raw/t10k-images-idx3-ubyte.gz to ./FashionMNIST/FashionMNIST/raw\n",
            "\n",
            "Downloading http://fashion-mnist.s3-website.eu-central-1.amazonaws.com/t10k-labels-idx1-ubyte.gz\n",
            "Downloading http://fashion-mnist.s3-website.eu-central-1.amazonaws.com/t10k-labels-idx1-ubyte.gz to ./FashionMNIST/FashionMNIST/raw/t10k-labels-idx1-ubyte.gz\n"
          ]
        },
        {
          "output_type": "display_data",
          "data": {
            "application/vnd.jupyter.widget-view+json": {
              "model_id": "552124fe4ab84efb94ea3d6750b165ee",
              "version_minor": 0,
              "version_major": 2
            },
            "text/plain": [
              "  0%|          | 0/5148 [00:00<?, ?it/s]"
            ]
          },
          "metadata": {}
        },
        {
          "output_type": "stream",
          "name": "stdout",
          "text": [
            "Extracting ./FashionMNIST/FashionMNIST/raw/t10k-labels-idx1-ubyte.gz to ./FashionMNIST/FashionMNIST/raw\n",
            "\n"
          ]
        }
      ]
    },
    {
      "cell_type": "markdown",
      "source": [
        "Define network and class layers as well as optimizer and criterion"
      ],
      "metadata": {
        "id": "LH2l_YpxeaIL"
      }
    },
    {
      "cell_type": "code",
      "source": [
        "# Define network and layers\n",
        "net = Network([\n",
        "    Connected(features=(28*28, 128)),\n",
        "    Sigmoid(),\n",
        "    Connected(features=(128, 64)),\n",
        "    Relu(),\n",
        "    Connected(features=(64, 10)),\n",
        "    Softmax()\n",
        "])\n",
        "learning_rate = 0.009\n",
        "optimizer = StochasticGradientDescent(network=net, learning_rate=learning_rate)\n",
        "criterion = CrossEntropyLoss()\n"
      ],
      "metadata": {
        "id": "De32c1C0-M1e"
      },
      "execution_count": 8,
      "outputs": []
    },
    {
      "cell_type": "markdown",
      "source": [
        "Define function for one hot encoder"
      ],
      "metadata": {
        "id": "o82-_HQweicL"
      }
    },
    {
      "cell_type": "code",
      "source": [
        "# One hot encoder\n",
        "def encode(tensor, amount):\n",
        "    tensor_size = len(tensor)\n",
        "    tensor = tensor.reshape(tensor_size)\n",
        "    one_hots = np.zeros((tensor_size, amount))\n",
        "    one_hots[np.arange(tensor_size), tensor] = 1\n",
        "    return one_hots\n"
      ],
      "metadata": {
        "id": "IpgxIJSE-UnQ"
      },
      "execution_count": 9,
      "outputs": []
    },
    {
      "cell_type": "markdown",
      "source": [
        "Train network using defined network model"
      ],
      "metadata": {
        "id": "BpOUhprtemjn"
      }
    },
    {
      "cell_type": "code",
      "source": [
        "import torch\n",
        "from tqdm import tqdm\n",
        "\n",
        "\n",
        "number_of_epochs = 1\n",
        "num_classes = len(training.classes)\n",
        "net.set_mode(Mode.TRAIN)\n",
        "for epoch in range(number_of_epochs):\n",
        "    epoch_loss = 0.0\n",
        "    with tqdm(training_loader, unit='batch') as tqdm_epoch:\n",
        "        for _, data in enumerate(tqdm_epoch):\n",
        "            tqdm_epoch.set_description(f\"epoch {epoch + 1}\")\n",
        "            inputs, labels = data\n",
        "            # Reshape inputs\n",
        "            inputs = torch.reshape(inputs, (-1, 28*28))\n",
        "            # One hot encode labels\n",
        "            labels = encode(tensor=labels, amount=num_classes)\n",
        "\n",
        "            # Forward pass\n",
        "            output = net.forward_pass(inputs)\n",
        "\n",
        "            # Compute loss\n",
        "            epoch_loss += criterion(output, labels)\n",
        "\n",
        "            # Backward pass\n",
        "            net.backward_pass(labels)\n",
        "\n",
        "            # Optimization Step\n",
        "            optimizer.step()\n",
        "\n",
        "            tqdm_epoch.set_postfix(loss=(epoch_loss/len(training.data)))\n"
      ],
      "metadata": {
        "colab": {
          "base_uri": "https://localhost:8080/"
        },
        "id": "LAoLsNte-Vrg",
        "outputId": "cd66635f-164a-4f3f-b1e2-5260762b98d8"
      },
      "execution_count": 10,
      "outputs": [
        {
          "output_type": "stream",
          "name": "stderr",
          "text": [
            "epoch 1: 100%|██████████| 469/469 [00:23<00:00, 19.76batch/s, loss=1.35]\n"
          ]
        }
      ]
    },
    {
      "cell_type": "markdown",
      "source": [
        "Save trained network to file"
      ],
      "metadata": {
        "id": "LZiHEPuVesdO"
      }
    },
    {
      "cell_type": "code",
      "source": [
        "# Set trained network \n",
        "import pickle as pkl\n",
        "pkl.dump(net, open('trained.network', 'wb'))\n"
      ],
      "metadata": {
        "id": "oES5mLQJuVSC"
      },
      "execution_count": 11,
      "outputs": []
    },
    {
      "cell_type": "markdown",
      "source": [
        "Load trained network from file and test against trained network"
      ],
      "metadata": {
        "id": "bKVoLW_0evFH"
      }
    },
    {
      "cell_type": "code",
      "source": [
        "# Load trained network\n",
        "import pickle as pkl\n",
        "loaded_net = pkl.load(open('trained.network', 'rb'))\n",
        "\n",
        "correct_predictions = 0\n",
        "num_classes = len(testing.classes)\n",
        "# Set the model in test mode, bypassing backward pass\n",
        "loaded_net.set_mode(Mode.TEST)\n",
        "for data in testing_loader:\n",
        "    inputs, labels = data\n",
        "    # Reshape inputs and labels\n",
        "    inputs = torch.reshape(inputs, (-1, 28*28))\n",
        "    # One hot encode labels\n",
        "    labels = encode(tensor=labels, amount=num_classes)\n",
        "    # Forward Propagation\n",
        "    output = loaded_net.forward_pass(inputs)\n",
        "    predicted = np.argmax(output, axis=1)\n",
        "    predicted = predicted.reshape(len(predicted), 1)\n",
        "    correct_predictions += np.sum(predicted ==\n",
        "                                  labels.argmax(axis=1).reshape(len(inputs), 1))\n",
        "\n",
        "print(\n",
        "    f'accuracy: {(100 * correct_predictions / len(testing.data))}%')\n"
      ],
      "metadata": {
        "id": "9jh1AcqA-W_f",
        "colab": {
          "base_uri": "https://localhost:8080/"
        },
        "outputId": "b77f5d29-db46-4dea-a881-35472a638a6e"
      },
      "execution_count": 12,
      "outputs": [
        {
          "output_type": "stream",
          "name": "stdout",
          "text": [
            "accuracy: 70.87%\n"
          ]
        }
      ]
    }
  ]
}